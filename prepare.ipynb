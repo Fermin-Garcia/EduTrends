{
 "cells": [
  {
   "cell_type": "code",
   "execution_count": 1,
   "id": "31ab4219-a6b6-47f3-b0a3-c3c865fe6cad",
   "metadata": {},
   "outputs": [],
   "source": [
    "import acquire as a\n",
    "import pandas as pd \n",
    "import matplotlib.pyplot as plt\n",
    "import numpy as np"
   ]
  },
  {
   "cell_type": "markdown",
   "id": "e2f371dd-1e68-49d4-be82-511bdf70db37",
   "metadata": {
    "tags": []
   },
   "source": [
    "## First thing I want to do is standardize all the column names. "
   ]
  },
  {
   "cell_type": "code",
   "execution_count": 2,
   "id": "2a4a44dc-d487-47e7-966d-6b18d1d6b000",
   "metadata": {},
   "outputs": [],
   "source": [
    "df = a.acquire_edu_data()"
   ]
  },
  {
   "cell_type": "code",
   "execution_count": 3,
   "id": "e4c7fdea-b928-4ab6-a824-1f8c13198e2f",
   "metadata": {},
   "outputs": [
    {
     "data": {
      "text/plain": [
       "Index(['Unnamed: 0.1', 'Unnamed: 0', 'Gender', 'EthnicGroup', 'ParentEduc',\n",
       "       'LunchType', 'TestPrep', 'ParentMaritalStatus', 'PracticeSport',\n",
       "       'IsFirstChild', 'NrSiblings', 'TransportMeans', 'WklyStudyHours',\n",
       "       'MathScore', 'ReadingScore', 'WritingScore'],\n",
       "      dtype='object')"
      ]
     },
     "execution_count": 3,
     "metadata": {},
     "output_type": "execute_result"
    }
   ],
   "source": [
    "df.columns"
   ]
  },
  {
   "cell_type": "markdown",
   "id": "646e20b2-f6d3-4f39-b567-1a4dbb1316ab",
   "metadata": {},
   "source": [
    "    Key takaways:\n",
    "    - there is a combination of upper and lowercase letters\n",
    "    - Some columns have sapces \n",
    "    - unnamed columns are mirror of index so we can remove those columns. \n",
    "    "
   ]
  },
  {
   "cell_type": "code",
   "execution_count": 4,
   "id": "3a241ac9-a695-4d49-80f3-2f6de6807a4b",
   "metadata": {},
   "outputs": [],
   "source": [
    "# lets addess the first two with one line of code\n",
    "df.columns = df.columns.str.lower().str.replace(' ', '_')"
   ]
  },
  {
   "cell_type": "code",
   "execution_count": 5,
   "id": "bb7aa56d-029a-4cfb-ab96-cced432babcf",
   "metadata": {},
   "outputs": [],
   "source": [
    "# now for the unnamed columns\n",
    "df.drop(columns=[c for c in df.columns if 'unnamed' in c],inplace=True)\n"
   ]
  },
  {
   "cell_type": "markdown",
   "id": "0a7ca953-9558-47c0-8b51-35d7da38208d",
   "metadata": {
    "tags": []
   },
   "source": [
    "## Here we are looking to address the null values . This is a special case with nulls becasue every data point is a student. To use df.dropna() will drop a student who didnt have a voice and we don't want to take that away from a student."
   ]
  },
  {
   "cell_type": "code",
   "execution_count": 6,
   "id": "c1caaca0-e7f4-478c-8330-85d7b88102ae",
   "metadata": {},
   "outputs": [
    {
     "data": {
      "text/plain": [
       "gender                  0.000000\n",
       "ethnicgroup             6.005026\n",
       "parenteduc              6.021344\n",
       "lunchtype               0.000000\n",
       "testprep                5.972390\n",
       "parentmaritalstatus     3.883685\n",
       "practicesport           2.059332\n",
       "isfirstchild            2.950295\n",
       "nrsiblings              5.130381\n",
       "transportmeans         10.228126\n",
       "wklystudyhours          3.116739\n",
       "mathscore               0.000000\n",
       "readingscore            0.000000\n",
       "writingscore            0.000000\n",
       "dtype: float64"
      ]
     },
     "execution_count": 6,
     "metadata": {},
     "output_type": "execute_result"
    }
   ],
   "source": [
    "# first I want to see how many missing values there are in the dataset and set it to output it by % of columns\n",
    "(df.isna().sum() / len(df) )* 100 "
   ]
  },
  {
   "cell_type": "markdown",
   "id": "66590229-9d86-48eb-a1b9-687b4718c97f",
   "metadata": {},
   "source": [
    "    Addressing the first null, I'm gonna drop the column ethnicgroup. I did this to prevent any potential biases or unfair labeling based on ethnicity, and to ensure that the analysis is focused solely on the other factors that may be affecting educational performance. It is important to note that removing a variable like ethnicity from the analysis does not mean that it is not an important factor, but rather that in this specific analysis, we are choosing to focus on other variables."
   ]
  },
  {
   "cell_type": "code",
   "execution_count": 7,
   "id": "12aaee0d-7ddb-401a-8f3f-be27fb6138cc",
   "metadata": {},
   "outputs": [],
   "source": [
    "df.drop(columns='ethnicgroup', inplace=True)"
   ]
  },
  {
   "cell_type": "code",
   "execution_count": 8,
   "id": "8e3b5fab-7c2f-4894-a85a-ba18e6d3a7e9",
   "metadata": {},
   "outputs": [
    {
     "data": {
      "text/plain": [
       "gender                  0.000000\n",
       "parenteduc              6.021344\n",
       "lunchtype               0.000000\n",
       "testprep                5.972390\n",
       "parentmaritalstatus     3.883685\n",
       "practicesport           2.059332\n",
       "isfirstchild            2.950295\n",
       "nrsiblings              5.130381\n",
       "transportmeans         10.228126\n",
       "wklystudyhours          3.116739\n",
       "mathscore               0.000000\n",
       "readingscore            0.000000\n",
       "writingscore            0.000000\n",
       "dtype: float64"
      ]
     },
     "execution_count": 8,
     "metadata": {},
     "output_type": "execute_result"
    }
   ],
   "source": [
    "# first I want to see how many missing values there are in the dataset and set it to output it by % of columns\n",
    "(df.isna().sum() / len(df) )* 100 "
   ]
  },
  {
   "cell_type": "markdown",
   "id": "689364c5-1ccc-49df-9481-87b0fedc7506",
   "metadata": {},
   "source": [
    "    We are going to impute the nulls until they are able to be update. Since all the nulls are less than 11 % of the columns in the dataset I feel comfortable enough to impute them."
   ]
  },
  {
   "cell_type": "code",
   "execution_count": 9,
   "id": "b6f9fa99-18a6-450d-a76f-778f9477cd18",
   "metadata": {},
   "outputs": [],
   "source": [
    "has_null =[]\n",
    "\n",
    "for cols in df.columns:\n",
    "    if df[cols].isna().sum() > 0:\n",
    "        has_null.append(cols)\n",
    "    else:\n",
    "        pass"
   ]
  },
  {
   "cell_type": "code",
   "execution_count": 10,
   "id": "2663af44-f8d6-4f76-989a-215ca01f1dc2",
   "metadata": {},
   "outputs": [
    {
     "data": {
      "text/plain": [
       "['parenteduc',\n",
       " 'testprep',\n",
       " 'parentmaritalstatus',\n",
       " 'practicesport',\n",
       " 'isfirstchild',\n",
       " 'nrsiblings',\n",
       " 'transportmeans',\n",
       " 'wklystudyhours']"
      ]
     },
     "execution_count": 10,
     "metadata": {},
     "output_type": "execute_result"
    }
   ],
   "source": [
    "# Here we trust but verify our code, and ensure that the null columns were added to the list\n",
    "has_null"
   ]
  },
  {
   "cell_type": "code",
   "execution_count": 11,
   "id": "25b49f8b-d93b-4781-878f-73c1e1755597",
   "metadata": {},
   "outputs": [],
   "source": [
    "from sklearn.impute import SimpleImputer\n",
    "\n",
    "imputer = SimpleImputer(strategy='most_frequent')\n",
    "\n",
    "# Fill the missing values in each column\n",
    "for col in df.columns:\n",
    "    if df[col].isna().sum() > 0:\n",
    "        df[col] = imputer.fit_transform(df[col].values.reshape(-1, 1))\n"
   ]
  },
  {
   "cell_type": "code",
   "execution_count": 12,
   "id": "e0f06de6-2c13-4455-948e-49aa48470209",
   "metadata": {},
   "outputs": [
    {
     "data": {
      "text/plain": [
       "gender                 0.0\n",
       "parenteduc             0.0\n",
       "lunchtype              0.0\n",
       "testprep               0.0\n",
       "parentmaritalstatus    0.0\n",
       "practicesport          0.0\n",
       "isfirstchild           0.0\n",
       "nrsiblings             0.0\n",
       "transportmeans         0.0\n",
       "wklystudyhours         0.0\n",
       "mathscore              0.0\n",
       "readingscore           0.0\n",
       "writingscore           0.0\n",
       "dtype: float64"
      ]
     },
     "execution_count": 12,
     "metadata": {},
     "output_type": "execute_result"
    }
   ],
   "source": [
    "(df.isna().sum() / len(df) )* 100 "
   ]
  },
  {
   "cell_type": "code",
   "execution_count": 13,
   "id": "be072a8d-abf0-4f08-ac75-4aa5e0c69396",
   "metadata": {},
   "outputs": [
    {
     "data": {
      "text/plain": [
       "none         20686\n",
       "completed     9955\n",
       "Name: testprep, dtype: int64"
      ]
     },
     "execution_count": 13,
     "metadata": {},
     "output_type": "execute_result"
    }
   ],
   "source": [
    "df.testprep.value_counts()"
   ]
  },
  {
   "cell_type": "code",
   "execution_count": 14,
   "id": "8f94ad77-cad0-4bce-a290-0b5feb8764a4",
   "metadata": {},
   "outputs": [
    {
     "data": {
      "text/html": [
       "<div>\n",
       "<style scoped>\n",
       "    .dataframe tbody tr th:only-of-type {\n",
       "        vertical-align: middle;\n",
       "    }\n",
       "\n",
       "    .dataframe tbody tr th {\n",
       "        vertical-align: top;\n",
       "    }\n",
       "\n",
       "    .dataframe thead th {\n",
       "        text-align: right;\n",
       "    }\n",
       "</style>\n",
       "<table border=\"1\" class=\"dataframe\">\n",
       "  <thead>\n",
       "    <tr style=\"text-align: right;\">\n",
       "      <th></th>\n",
       "      <th>nrsiblings</th>\n",
       "      <th>mathscore</th>\n",
       "      <th>readingscore</th>\n",
       "      <th>writingscore</th>\n",
       "    </tr>\n",
       "  </thead>\n",
       "  <tbody>\n",
       "    <tr>\n",
       "      <th>count</th>\n",
       "      <td>30641.000000</td>\n",
       "      <td>30641.000000</td>\n",
       "      <td>30641.000000</td>\n",
       "      <td>30641.000000</td>\n",
       "    </tr>\n",
       "    <tr>\n",
       "      <th>mean</th>\n",
       "      <td>2.087106</td>\n",
       "      <td>66.558402</td>\n",
       "      <td>69.377533</td>\n",
       "      <td>68.418622</td>\n",
       "    </tr>\n",
       "    <tr>\n",
       "      <th>std</th>\n",
       "      <td>1.442665</td>\n",
       "      <td>15.361616</td>\n",
       "      <td>14.758952</td>\n",
       "      <td>15.443525</td>\n",
       "    </tr>\n",
       "    <tr>\n",
       "      <th>min</th>\n",
       "      <td>0.000000</td>\n",
       "      <td>0.000000</td>\n",
       "      <td>10.000000</td>\n",
       "      <td>4.000000</td>\n",
       "    </tr>\n",
       "    <tr>\n",
       "      <th>25%</th>\n",
       "      <td>1.000000</td>\n",
       "      <td>56.000000</td>\n",
       "      <td>59.000000</td>\n",
       "      <td>58.000000</td>\n",
       "    </tr>\n",
       "    <tr>\n",
       "      <th>50%</th>\n",
       "      <td>2.000000</td>\n",
       "      <td>67.000000</td>\n",
       "      <td>70.000000</td>\n",
       "      <td>69.000000</td>\n",
       "    </tr>\n",
       "    <tr>\n",
       "      <th>75%</th>\n",
       "      <td>3.000000</td>\n",
       "      <td>78.000000</td>\n",
       "      <td>80.000000</td>\n",
       "      <td>79.000000</td>\n",
       "    </tr>\n",
       "    <tr>\n",
       "      <th>max</th>\n",
       "      <td>7.000000</td>\n",
       "      <td>100.000000</td>\n",
       "      <td>100.000000</td>\n",
       "      <td>100.000000</td>\n",
       "    </tr>\n",
       "  </tbody>\n",
       "</table>\n",
       "</div>"
      ],
      "text/plain": [
       "         nrsiblings     mathscore  readingscore  writingscore\n",
       "count  30641.000000  30641.000000  30641.000000  30641.000000\n",
       "mean       2.087106     66.558402     69.377533     68.418622\n",
       "std        1.442665     15.361616     14.758952     15.443525\n",
       "min        0.000000      0.000000     10.000000      4.000000\n",
       "25%        1.000000     56.000000     59.000000     58.000000\n",
       "50%        2.000000     67.000000     70.000000     69.000000\n",
       "75%        3.000000     78.000000     80.000000     79.000000\n",
       "max        7.000000    100.000000    100.000000    100.000000"
      ]
     },
     "execution_count": 14,
     "metadata": {},
     "output_type": "execute_result"
    }
   ],
   "source": [
    "df.describe()"
   ]
  },
  {
   "cell_type": "code",
   "execution_count": 15,
   "id": "f225745f-9589-4b46-9d94-0c2630e7e46a",
   "metadata": {},
   "outputs": [
    {
     "name": "stdout",
     "output_type": "stream",
     "text": [
      "<class 'pandas.core.frame.DataFrame'>\n",
      "RangeIndex: 30641 entries, 0 to 30640\n",
      "Data columns (total 13 columns):\n",
      " #   Column               Non-Null Count  Dtype  \n",
      "---  ------               --------------  -----  \n",
      " 0   gender               30641 non-null  object \n",
      " 1   parenteduc           30641 non-null  object \n",
      " 2   lunchtype            30641 non-null  object \n",
      " 3   testprep             30641 non-null  object \n",
      " 4   parentmaritalstatus  30641 non-null  object \n",
      " 5   practicesport        30641 non-null  object \n",
      " 6   isfirstchild         30641 non-null  object \n",
      " 7   nrsiblings           30641 non-null  float64\n",
      " 8   transportmeans       30641 non-null  object \n",
      " 9   wklystudyhours       30641 non-null  object \n",
      " 10  mathscore            30641 non-null  int64  \n",
      " 11  readingscore         30641 non-null  int64  \n",
      " 12  writingscore         30641 non-null  int64  \n",
      "dtypes: float64(1), int64(3), object(9)\n",
      "memory usage: 3.0+ MB\n"
     ]
    }
   ],
   "source": [
    "df.info()"
   ]
  },
  {
   "cell_type": "code",
   "execution_count": 16,
   "id": "d47fb1b9-0d1f-46e5-a3d3-f83ddc0eb1cd",
   "metadata": {},
   "outputs": [
    {
     "data": {
      "text/html": [
       "<div>\n",
       "<style scoped>\n",
       "    .dataframe tbody tr th:only-of-type {\n",
       "        vertical-align: middle;\n",
       "    }\n",
       "\n",
       "    .dataframe tbody tr th {\n",
       "        vertical-align: top;\n",
       "    }\n",
       "\n",
       "    .dataframe thead th {\n",
       "        text-align: right;\n",
       "    }\n",
       "</style>\n",
       "<table border=\"1\" class=\"dataframe\">\n",
       "  <thead>\n",
       "    <tr style=\"text-align: right;\">\n",
       "      <th></th>\n",
       "      <th>gender</th>\n",
       "      <th>parenteduc</th>\n",
       "      <th>lunchtype</th>\n",
       "      <th>testprep</th>\n",
       "      <th>parentmaritalstatus</th>\n",
       "      <th>practicesport</th>\n",
       "      <th>isfirstchild</th>\n",
       "      <th>nrsiblings</th>\n",
       "      <th>transportmeans</th>\n",
       "      <th>wklystudyhours</th>\n",
       "      <th>mathscore</th>\n",
       "      <th>readingscore</th>\n",
       "      <th>writingscore</th>\n",
       "    </tr>\n",
       "  </thead>\n",
       "  <tbody>\n",
       "    <tr>\n",
       "      <th>0</th>\n",
       "      <td>female</td>\n",
       "      <td>bachelor's degree</td>\n",
       "      <td>standard</td>\n",
       "      <td>none</td>\n",
       "      <td>married</td>\n",
       "      <td>regularly</td>\n",
       "      <td>yes</td>\n",
       "      <td>3.0</td>\n",
       "      <td>school_bus</td>\n",
       "      <td>&lt; 5</td>\n",
       "      <td>71</td>\n",
       "      <td>71</td>\n",
       "      <td>74</td>\n",
       "    </tr>\n",
       "    <tr>\n",
       "      <th>1</th>\n",
       "      <td>female</td>\n",
       "      <td>some college</td>\n",
       "      <td>standard</td>\n",
       "      <td>none</td>\n",
       "      <td>married</td>\n",
       "      <td>sometimes</td>\n",
       "      <td>yes</td>\n",
       "      <td>0.0</td>\n",
       "      <td>school_bus</td>\n",
       "      <td>5 - 10</td>\n",
       "      <td>69</td>\n",
       "      <td>90</td>\n",
       "      <td>88</td>\n",
       "    </tr>\n",
       "    <tr>\n",
       "      <th>2</th>\n",
       "      <td>female</td>\n",
       "      <td>master's degree</td>\n",
       "      <td>standard</td>\n",
       "      <td>none</td>\n",
       "      <td>single</td>\n",
       "      <td>sometimes</td>\n",
       "      <td>yes</td>\n",
       "      <td>4.0</td>\n",
       "      <td>school_bus</td>\n",
       "      <td>&lt; 5</td>\n",
       "      <td>87</td>\n",
       "      <td>93</td>\n",
       "      <td>91</td>\n",
       "    </tr>\n",
       "    <tr>\n",
       "      <th>3</th>\n",
       "      <td>male</td>\n",
       "      <td>associate's degree</td>\n",
       "      <td>free/reduced</td>\n",
       "      <td>none</td>\n",
       "      <td>married</td>\n",
       "      <td>never</td>\n",
       "      <td>no</td>\n",
       "      <td>1.0</td>\n",
       "      <td>school_bus</td>\n",
       "      <td>5 - 10</td>\n",
       "      <td>45</td>\n",
       "      <td>56</td>\n",
       "      <td>42</td>\n",
       "    </tr>\n",
       "    <tr>\n",
       "      <th>4</th>\n",
       "      <td>male</td>\n",
       "      <td>some college</td>\n",
       "      <td>standard</td>\n",
       "      <td>none</td>\n",
       "      <td>married</td>\n",
       "      <td>sometimes</td>\n",
       "      <td>yes</td>\n",
       "      <td>0.0</td>\n",
       "      <td>school_bus</td>\n",
       "      <td>5 - 10</td>\n",
       "      <td>76</td>\n",
       "      <td>78</td>\n",
       "      <td>75</td>\n",
       "    </tr>\n",
       "  </tbody>\n",
       "</table>\n",
       "</div>"
      ],
      "text/plain": [
       "   gender          parenteduc     lunchtype testprep parentmaritalstatus  \\\n",
       "0  female   bachelor's degree      standard     none             married   \n",
       "1  female        some college      standard     none             married   \n",
       "2  female     master's degree      standard     none              single   \n",
       "3    male  associate's degree  free/reduced     none             married   \n",
       "4    male        some college      standard     none             married   \n",
       "\n",
       "  practicesport isfirstchild  nrsiblings transportmeans wklystudyhours  \\\n",
       "0     regularly          yes         3.0     school_bus            < 5   \n",
       "1     sometimes          yes         0.0     school_bus         5 - 10   \n",
       "2     sometimes          yes         4.0     school_bus            < 5   \n",
       "3         never           no         1.0     school_bus         5 - 10   \n",
       "4     sometimes          yes         0.0     school_bus         5 - 10   \n",
       "\n",
       "   mathscore  readingscore  writingscore  \n",
       "0         71            71            74  \n",
       "1         69            90            88  \n",
       "2         87            93            91  \n",
       "3         45            56            42  \n",
       "4         76            78            75  "
      ]
     },
     "execution_count": 16,
     "metadata": {},
     "output_type": "execute_result"
    }
   ],
   "source": [
    "df.head()"
   ]
  },
  {
   "cell_type": "code",
   "execution_count": 17,
   "id": "68caef90-2d2d-4464-84b4-fce69d91218f",
   "metadata": {},
   "outputs": [
    {
     "data": {
      "text/plain": [
       "standard        19905\n",
       "free/reduced    10736\n",
       "Name: lunchtype, dtype: int64"
      ]
     },
     "execution_count": 17,
     "metadata": {},
     "output_type": "execute_result"
    }
   ],
   "source": [
    "df['lunchtype'].value_counts()"
   ]
  },
  {
   "cell_type": "code",
   "execution_count": 18,
   "id": "490fd708-c3da-4b1f-af72-6e108c5f9687",
   "metadata": {},
   "outputs": [],
   "source": [
    "df.columns = ['is_male', 'parent_educ', 'free_reduced_lunch', 'test_prep_completed', 'parent_marital_status',\n",
    "       'practicesport', 'is_first_child', 'nrsiblings', 'rides_bus',\n",
    "       'wkly_study_hours', 'math_score', 'reading_score', 'writing_score']"
   ]
  },
  {
   "cell_type": "code",
   "execution_count": 19,
   "id": "adb54f22-34fe-41f8-8a50-1c85247f4e08",
   "metadata": {},
   "outputs": [],
   "source": [
    "value_change = {\n",
    "    'female' : 0,\n",
    "    'male' : 1,\n",
    "    'no' : 0,\n",
    "    'yes': 1,\n",
    "    'school_bus': 1,\n",
    "    'private' : 0,\n",
    "    'none' : 0,\n",
    "    'completed' : 1,\n",
    "    'sometimes' : 1,\n",
    "    'regularly' : 1,\n",
    "    'never' : 0,\n",
    "    'free/reduced' : 1,\n",
    "    'standard' : 0\n",
    "}"
   ]
  },
  {
   "cell_type": "code",
   "execution_count": 20,
   "id": "73bdbc70-d57d-448e-9229-7cb177343592",
   "metadata": {},
   "outputs": [],
   "source": [
    "df.replace(to_replace=value_change,inplace=True)"
   ]
  },
  {
   "cell_type": "code",
   "execution_count": 21,
   "id": "438110f7-c80f-4bca-82cc-d81056ef2fff",
   "metadata": {},
   "outputs": [],
   "source": [
    "# we are going to engineer the final score.\n",
    "scores = ['writing_score' ,'reading_score', 'math_score']\n",
    "df['final_score'] =round( df[scores].mean(axis=1),2)"
   ]
  },
  {
   "cell_type": "code",
   "execution_count": 22,
   "id": "e6c009ad-dc62-415b-bf8b-d3af4f30d901",
   "metadata": {},
   "outputs": [
    {
     "name": "stdout",
     "output_type": "stream",
     "text": [
      "<class 'pandas.core.frame.DataFrame'>\n",
      "RangeIndex: 30641 entries, 0 to 30640\n",
      "Data columns (total 14 columns):\n",
      " #   Column                 Non-Null Count  Dtype  \n",
      "---  ------                 --------------  -----  \n",
      " 0   is_male                30641 non-null  int64  \n",
      " 1   parent_educ            30641 non-null  object \n",
      " 2   free_reduced_lunch     30641 non-null  int64  \n",
      " 3   test_prep_completed    30641 non-null  int64  \n",
      " 4   parent_marital_status  30641 non-null  object \n",
      " 5   practicesport          30641 non-null  int64  \n",
      " 6   is_first_child         30641 non-null  int64  \n",
      " 7   nrsiblings             30641 non-null  float64\n",
      " 8   rides_bus              30641 non-null  int64  \n",
      " 9   wkly_study_hours       30641 non-null  object \n",
      " 10  math_score             30641 non-null  int64  \n",
      " 11  reading_score          30641 non-null  int64  \n",
      " 12  writing_score          30641 non-null  int64  \n",
      " 13  final_score            30641 non-null  float64\n",
      "dtypes: float64(2), int64(9), object(3)\n",
      "memory usage: 3.3+ MB\n"
     ]
    }
   ],
   "source": [
    "df.info()"
   ]
  },
  {
   "cell_type": "code",
   "execution_count": 23,
   "id": "06a203af-5252-418f-86db-32da9c8dc59d",
   "metadata": {},
   "outputs": [],
   "source": [
    "object_columns = list()\n",
    "for cols in df.columns:\n",
    "    if df[cols].dtype == 'O':\n",
    "        object_columns.append(cols)\n",
    "    "
   ]
  },
  {
   "cell_type": "code",
   "execution_count": 24,
   "id": "c1b9171d-7642-47f2-a228-29b625907c02",
   "metadata": {},
   "outputs": [],
   "source": [
    "df = pd.get_dummies(df, columns=object_columns, drop_first= True)"
   ]
  },
  {
   "cell_type": "code",
   "execution_count": 25,
   "id": "acc27dee-a12b-449d-ae16-1b9dcd8a84db",
   "metadata": {},
   "outputs": [
    {
     "data": {
      "text/plain": [
       "Index(['is_male', 'free_reduced_lunch', 'test_prep_completed', 'practicesport',\n",
       "       'is_first_child', 'nrsiblings', 'rides_bus', 'math_score',\n",
       "       'reading_score', 'writing_score', 'final_score',\n",
       "       'parent_educ_bachelor's degree', 'parent_educ_high school',\n",
       "       'parent_educ_master's degree', 'parent_educ_some college',\n",
       "       'parent_educ_some high school', 'parent_marital_status_married',\n",
       "       'parent_marital_status_single', 'parent_marital_status_widowed',\n",
       "       'wkly_study_hours_< 5', 'wkly_study_hours_> 10'],\n",
       "      dtype='object')"
      ]
     },
     "execution_count": 25,
     "metadata": {},
     "output_type": "execute_result"
    }
   ],
   "source": [
    "df.columns"
   ]
  },
  {
   "cell_type": "code",
   "execution_count": 26,
   "id": "863ff44e-c2c7-4808-91b0-68f3f3a5829c",
   "metadata": {},
   "outputs": [
    {
     "data": {
      "text/html": [
       "<div>\n",
       "<style scoped>\n",
       "    .dataframe tbody tr th:only-of-type {\n",
       "        vertical-align: middle;\n",
       "    }\n",
       "\n",
       "    .dataframe tbody tr th {\n",
       "        vertical-align: top;\n",
       "    }\n",
       "\n",
       "    .dataframe thead th {\n",
       "        text-align: right;\n",
       "    }\n",
       "</style>\n",
       "<table border=\"1\" class=\"dataframe\">\n",
       "  <thead>\n",
       "    <tr style=\"text-align: right;\">\n",
       "      <th></th>\n",
       "      <th>is_male</th>\n",
       "      <th>free_reduced_lunch</th>\n",
       "      <th>test_prep_completed</th>\n",
       "      <th>practicesport</th>\n",
       "      <th>is_first_child</th>\n",
       "      <th>nrsiblings</th>\n",
       "      <th>rides_bus</th>\n",
       "      <th>math_score</th>\n",
       "      <th>reading_score</th>\n",
       "      <th>writing_score</th>\n",
       "      <th>...</th>\n",
       "      <th>parent_educ_bachelor's degree</th>\n",
       "      <th>parent_educ_high school</th>\n",
       "      <th>parent_educ_master's degree</th>\n",
       "      <th>parent_educ_some college</th>\n",
       "      <th>parent_educ_some high school</th>\n",
       "      <th>parent_marital_status_married</th>\n",
       "      <th>parent_marital_status_single</th>\n",
       "      <th>parent_marital_status_widowed</th>\n",
       "      <th>wkly_study_hours_&lt; 5</th>\n",
       "      <th>wkly_study_hours_&gt; 10</th>\n",
       "    </tr>\n",
       "  </thead>\n",
       "  <tbody>\n",
       "    <tr>\n",
       "      <th>0</th>\n",
       "      <td>0</td>\n",
       "      <td>0</td>\n",
       "      <td>0</td>\n",
       "      <td>1</td>\n",
       "      <td>1</td>\n",
       "      <td>3.0</td>\n",
       "      <td>1</td>\n",
       "      <td>71</td>\n",
       "      <td>71</td>\n",
       "      <td>74</td>\n",
       "      <td>...</td>\n",
       "      <td>1</td>\n",
       "      <td>0</td>\n",
       "      <td>0</td>\n",
       "      <td>0</td>\n",
       "      <td>0</td>\n",
       "      <td>1</td>\n",
       "      <td>0</td>\n",
       "      <td>0</td>\n",
       "      <td>1</td>\n",
       "      <td>0</td>\n",
       "    </tr>\n",
       "    <tr>\n",
       "      <th>1</th>\n",
       "      <td>0</td>\n",
       "      <td>0</td>\n",
       "      <td>0</td>\n",
       "      <td>1</td>\n",
       "      <td>1</td>\n",
       "      <td>0.0</td>\n",
       "      <td>1</td>\n",
       "      <td>69</td>\n",
       "      <td>90</td>\n",
       "      <td>88</td>\n",
       "      <td>...</td>\n",
       "      <td>0</td>\n",
       "      <td>0</td>\n",
       "      <td>0</td>\n",
       "      <td>1</td>\n",
       "      <td>0</td>\n",
       "      <td>1</td>\n",
       "      <td>0</td>\n",
       "      <td>0</td>\n",
       "      <td>0</td>\n",
       "      <td>0</td>\n",
       "    </tr>\n",
       "    <tr>\n",
       "      <th>2</th>\n",
       "      <td>0</td>\n",
       "      <td>0</td>\n",
       "      <td>0</td>\n",
       "      <td>1</td>\n",
       "      <td>1</td>\n",
       "      <td>4.0</td>\n",
       "      <td>1</td>\n",
       "      <td>87</td>\n",
       "      <td>93</td>\n",
       "      <td>91</td>\n",
       "      <td>...</td>\n",
       "      <td>0</td>\n",
       "      <td>0</td>\n",
       "      <td>1</td>\n",
       "      <td>0</td>\n",
       "      <td>0</td>\n",
       "      <td>0</td>\n",
       "      <td>1</td>\n",
       "      <td>0</td>\n",
       "      <td>1</td>\n",
       "      <td>0</td>\n",
       "    </tr>\n",
       "    <tr>\n",
       "      <th>3</th>\n",
       "      <td>1</td>\n",
       "      <td>1</td>\n",
       "      <td>0</td>\n",
       "      <td>0</td>\n",
       "      <td>0</td>\n",
       "      <td>1.0</td>\n",
       "      <td>1</td>\n",
       "      <td>45</td>\n",
       "      <td>56</td>\n",
       "      <td>42</td>\n",
       "      <td>...</td>\n",
       "      <td>0</td>\n",
       "      <td>0</td>\n",
       "      <td>0</td>\n",
       "      <td>0</td>\n",
       "      <td>0</td>\n",
       "      <td>1</td>\n",
       "      <td>0</td>\n",
       "      <td>0</td>\n",
       "      <td>0</td>\n",
       "      <td>0</td>\n",
       "    </tr>\n",
       "    <tr>\n",
       "      <th>4</th>\n",
       "      <td>1</td>\n",
       "      <td>0</td>\n",
       "      <td>0</td>\n",
       "      <td>1</td>\n",
       "      <td>1</td>\n",
       "      <td>0.0</td>\n",
       "      <td>1</td>\n",
       "      <td>76</td>\n",
       "      <td>78</td>\n",
       "      <td>75</td>\n",
       "      <td>...</td>\n",
       "      <td>0</td>\n",
       "      <td>0</td>\n",
       "      <td>0</td>\n",
       "      <td>1</td>\n",
       "      <td>0</td>\n",
       "      <td>1</td>\n",
       "      <td>0</td>\n",
       "      <td>0</td>\n",
       "      <td>0</td>\n",
       "      <td>0</td>\n",
       "    </tr>\n",
       "  </tbody>\n",
       "</table>\n",
       "<p>5 rows × 21 columns</p>\n",
       "</div>"
      ],
      "text/plain": [
       "   is_male  free_reduced_lunch  test_prep_completed  practicesport  \\\n",
       "0        0                   0                    0              1   \n",
       "1        0                   0                    0              1   \n",
       "2        0                   0                    0              1   \n",
       "3        1                   1                    0              0   \n",
       "4        1                   0                    0              1   \n",
       "\n",
       "   is_first_child  nrsiblings  rides_bus  math_score  reading_score  \\\n",
       "0               1         3.0          1          71             71   \n",
       "1               1         0.0          1          69             90   \n",
       "2               1         4.0          1          87             93   \n",
       "3               0         1.0          1          45             56   \n",
       "4               1         0.0          1          76             78   \n",
       "\n",
       "   writing_score  ...  parent_educ_bachelor's degree  parent_educ_high school  \\\n",
       "0             74  ...                              1                        0   \n",
       "1             88  ...                              0                        0   \n",
       "2             91  ...                              0                        0   \n",
       "3             42  ...                              0                        0   \n",
       "4             75  ...                              0                        0   \n",
       "\n",
       "   parent_educ_master's degree  parent_educ_some college  \\\n",
       "0                            0                         0   \n",
       "1                            0                         1   \n",
       "2                            1                         0   \n",
       "3                            0                         0   \n",
       "4                            0                         1   \n",
       "\n",
       "   parent_educ_some high school  parent_marital_status_married  \\\n",
       "0                             0                              1   \n",
       "1                             0                              1   \n",
       "2                             0                              0   \n",
       "3                             0                              1   \n",
       "4                             0                              1   \n",
       "\n",
       "   parent_marital_status_single  parent_marital_status_widowed  \\\n",
       "0                             0                              0   \n",
       "1                             0                              0   \n",
       "2                             1                              0   \n",
       "3                             0                              0   \n",
       "4                             0                              0   \n",
       "\n",
       "   wkly_study_hours_< 5  wkly_study_hours_> 10  \n",
       "0                     1                      0  \n",
       "1                     0                      0  \n",
       "2                     1                      0  \n",
       "3                     0                      0  \n",
       "4                     0                      0  \n",
       "\n",
       "[5 rows x 21 columns]"
      ]
     },
     "execution_count": 26,
     "metadata": {},
     "output_type": "execute_result"
    }
   ],
   "source": [
    "df.head()"
   ]
  },
  {
   "cell_type": "code",
   "execution_count": 27,
   "id": "c36e6677-7c81-41ac-ab13-4fdefd7e0d8a",
   "metadata": {},
   "outputs": [],
   "source": [
    "def split(df):\n",
    "    '''\n",
    "    This function splits a dataframe into \n",
    "    train, validate, and test in order to explore the data and to create and validate models. \n",
    "    It takes in a dataframe and contains an integer for setting a seed for replication. \n",
    "    Test is 20% of the original dataset. The remaining 80% of the dataset is \n",
    "    divided between valiidate and train, with validate being .30*.80= 24% of \n",
    "    the original dataset, and train being .70*.80= 56% of the original dataset. \n",
    "    The function returns, train, validate and test dataframes. \n",
    "    '''\n",
    "    train, test = train_test_split(df, test_size = .2, random_state=123)   \n",
    "    train, validate = train_test_split(train, test_size=.3, random_state=123)\n",
    "    \n",
    "    return train, validate, test"
   ]
  },
  {
   "cell_type": "code",
   "execution_count": 28,
   "id": "576eca49-91f3-4b3b-b64f-72f56cc9d414",
   "metadata": {},
   "outputs": [],
   "source": [
    "from sklearn.impute import SimpleImputer\n",
    "\n",
    "def prepare_edu():\n",
    "    df = a.acquire_edu_data()\n",
    "    df.columns = df.columns.str.lower().str.replace(' ', '_')\n",
    "    df.drop(columns=[c for c in df.columns if 'unnamed' in c],inplace=True)\n",
    "    df.drop(columns='ethnicgroup', inplace=True)\n",
    "    df.drop(columns=[c for c in df.columns if 'unnamed' in c],inplace=True)\n",
    "    has_null =[]\n",
    "\n",
    "    for cols in df.columns:\n",
    "        if df[cols].isna().sum() > 0:\n",
    "            has_null.append(cols)\n",
    "        else:\n",
    "            pass\n",
    "\n",
    "    imputer = SimpleImputer(strategy='most_frequent')\n",
    "\n",
    "    # Fill the missing values in each column\n",
    "    for col in df.columns:\n",
    "        if df[col].isna().sum() > 0:\n",
    "            df[col] = imputer.fit_transform(df[col].values.reshape(-1, 1))\n",
    "\n",
    "\n",
    "    df.columns = ['is_male', 'parent_educ', 'free_reduced_lunch', 'test_prep_completed', 'parent_marital_status',\n",
    "           'practicesport', 'is_first_child', 'nrsiblings', 'rides_bus',\n",
    "           'wkly_study_hours', 'math_score', 'reading_score', 'writing_score']\n",
    "\n",
    "    value_change = {\n",
    "    'female' : 0,\n",
    "    'male' : 1,\n",
    "    'no' : 0,\n",
    "    'yes': 1,\n",
    "    'school_bus': 1,\n",
    "    'private' : 0,\n",
    "    'none' : 0,\n",
    "    'completed' : 1,\n",
    "    'sometimes' : 1,\n",
    "    'regularly' : 1,\n",
    "    'never' : 0,\n",
    "    'free/reduced' : 1,\n",
    "    'standard' : 0\n",
    "    }\n",
    "    \n",
    "\n",
    "    df.replace(to_replace=value_change,inplace=True)\n",
    "\n",
    "    scores = ['writing_score' ,'reading_score', 'math_score']\n",
    "    df['final_score'] =round( df[scores].mean(axis=1),2)\n",
    "\n",
    "\n",
    "    object_columns = list()\n",
    "    for cols in df.columns:\n",
    "        if df[cols].dtype == 'O':\n",
    "            object_columns.append(cols)\n",
    "    df = pd.get_dummies(df, columns=object_columns, drop_first= True)\n",
    "    df.drop_duplicates(inplace=True)\n",
    "    return df\n"
   ]
  },
  {
   "cell_type": "code",
   "execution_count": 29,
   "id": "cbd7d10e-a7ab-4750-9fa7-aa8ca9d59632",
   "metadata": {},
   "outputs": [],
   "source": [
    "df =  prepare_edu()"
   ]
  },
  {
   "cell_type": "code",
   "execution_count": 30,
   "id": "e1b4be1c-b2c2-4a87-8e34-10b259da71d1",
   "metadata": {},
   "outputs": [
    {
     "data": {
      "text/plain": [
       "Index(['is_male', 'free_reduced_lunch', 'test_prep_completed', 'practicesport',\n",
       "       'is_first_child', 'nrsiblings', 'rides_bus', 'math_score',\n",
       "       'reading_score', 'writing_score', 'final_score',\n",
       "       'parent_educ_bachelor's degree', 'parent_educ_high school',\n",
       "       'parent_educ_master's degree', 'parent_educ_some college',\n",
       "       'parent_educ_some high school', 'parent_marital_status_married',\n",
       "       'parent_marital_status_single', 'parent_marital_status_widowed',\n",
       "       'wkly_study_hours_< 5', 'wkly_study_hours_> 10'],\n",
       "      dtype='object')"
      ]
     },
     "execution_count": 30,
     "metadata": {},
     "output_type": "execute_result"
    }
   ],
   "source": [
    "df.columns"
   ]
  },
  {
   "cell_type": "code",
   "execution_count": 31,
   "id": "99a17fa3-f078-4327-bf3b-842979deb7d9",
   "metadata": {},
   "outputs": [
    {
     "data": {
      "text/plain": [
       "0"
      ]
     },
     "execution_count": 31,
     "metadata": {},
     "output_type": "execute_result"
    }
   ],
   "source": [
    "df.duplicated().sum()"
   ]
  }
 ],
 "metadata": {
  "kernelspec": {
   "display_name": "Python 3 (ipykernel)",
   "language": "python",
   "name": "python3"
  },
  "language_info": {
   "codemirror_mode": {
    "name": "ipython",
    "version": 3
   },
   "file_extension": ".py",
   "mimetype": "text/x-python",
   "name": "python",
   "nbconvert_exporter": "python",
   "pygments_lexer": "ipython3",
   "version": "3.10.9"
  }
 },
 "nbformat": 4,
 "nbformat_minor": 5
}
