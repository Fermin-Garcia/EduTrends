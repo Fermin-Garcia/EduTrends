{
 "cells": [
  {
   "cell_type": "code",
   "execution_count": 8,
   "id": "31ab4219-a6b6-47f3-b0a3-c3c865fe6cad",
   "metadata": {},
   "outputs": [],
   "source": [
    "import acquire as a\n",
    "import pandas as pd \n",
    "import matplotlib.pyplot as plt"
   ]
  },
  {
   "cell_type": "code",
   "execution_count": 3,
   "id": "576eca49-91f3-4b3b-b64f-72f56cc9d414",
   "metadata": {},
   "outputs": [],
   "source": [
    "df = a.acquire_edu_data()"
   ]
  },
  {
   "cell_type": "markdown",
   "id": "e2f371dd-1e68-49d4-be82-511bdf70db37",
   "metadata": {},
   "source": [
    "## First thing I want to do is standardize all the column names. "
   ]
  },
  {
   "cell_type": "code",
   "execution_count": 14,
   "id": "e4c7fdea-b928-4ab6-a824-1f8c13198e2f",
   "metadata": {},
   "outputs": [
    {
     "data": {
      "text/plain": [
       "Index(['Unnamed: 0.1', 'Unnamed: 0', 'Gender', 'EthnicGroup', 'ParentEduc',\n",
       "       'LunchType', 'TestPrep', 'ParentMaritalStatus', 'PracticeSport',\n",
       "       'IsFirstChild', 'NrSiblings', 'TransportMeans', 'WklyStudyHours',\n",
       "       'MathScore', 'ReadingScore', 'WritingScore'],\n",
       "      dtype='object')"
      ]
     },
     "execution_count": 14,
     "metadata": {},
     "output_type": "execute_result"
    }
   ],
   "source": [
    "df.columns"
   ]
  },
  {
   "cell_type": "markdown",
   "id": "646e20b2-f6d3-4f39-b567-1a4dbb1316ab",
   "metadata": {},
   "source": [
    "    Key takaways:\n",
    "    - there is a combination of upper and lowercase letters\n",
    "    - Some columns have sapces \n",
    "    - unnamed columns are mirror of index so we can remove those columns. \n",
    "    "
   ]
  },
  {
   "cell_type": "code",
   "execution_count": 15,
   "id": "3a241ac9-a695-4d49-80f3-2f6de6807a4b",
   "metadata": {},
   "outputs": [],
   "source": [
    "# lets addess the first two with one line of code\n",
    "df.columns = df.columns.str.lower().str.replace(' ', '_')"
   ]
  },
  {
   "cell_type": "code",
   "execution_count": 20,
   "id": "bb7aa56d-029a-4cfb-ab96-cced432babcf",
   "metadata": {},
   "outputs": [],
   "source": [
    "# now for the unnamed columns\n",
    "df.drop(columns=[c for c in df.columns if 'unnamed' in c],inplace=True)\n"
   ]
  },
  {
   "cell_type": "markdown",
   "id": "0a7ca953-9558-47c0-8b51-35d7da38208d",
   "metadata": {
    "jp-MarkdownHeadingCollapsed": true,
    "tags": []
   },
   "source": [
    "### Now what to do is address the nulls. This is a special case with nulls becasue every data point is a student. To use df.dropna() will drop a student who didnt have a voice and we don't want to take that away from a child."
   ]
  },
  {
   "cell_type": "code",
   "execution_count": 7,
   "id": "8e3b5fab-7c2f-4894-a85a-ba18e6d3a7e9",
   "metadata": {},
   "outputs": [
    {
     "data": {
      "text/plain": [
       "Unnamed: 0.1            0.000000\n",
       "Unnamed: 0              0.000000\n",
       "Gender                  0.000000\n",
       "EthnicGroup             6.005026\n",
       "ParentEduc              6.021344\n",
       "LunchType               0.000000\n",
       "TestPrep                5.972390\n",
       "ParentMaritalStatus     3.883685\n",
       "PracticeSport           2.059332\n",
       "IsFirstChild            2.950295\n",
       "NrSiblings              5.130381\n",
       "TransportMeans         10.228126\n",
       "WklyStudyHours          3.116739\n",
       "MathScore               0.000000\n",
       "ReadingScore            0.000000\n",
       "WritingScore            0.000000\n",
       "dtype: float64"
      ]
     },
     "execution_count": 7,
     "metadata": {},
     "output_type": "execute_result"
    }
   ],
   "source": [
    "# first I want to see how many missing values there are in the dataset and set it to output it by % of columns\n",
    "(df.isna().sum() / len(df) )* 100 "
   ]
  },
  {
   "cell_type": "code",
   "execution_count": null,
   "id": "3ed4dfd6-590b-47a5-87ba-f5a0f21689a8",
   "metadata": {},
   "outputs": [],
   "source": [
    "Fist thing I want to do is drop "
   ]
  }
 ],
 "metadata": {
  "kernelspec": {
   "display_name": "Python 3 (ipykernel)",
   "language": "python",
   "name": "python3"
  },
  "language_info": {
   "codemirror_mode": {
    "name": "ipython",
    "version": 3
   },
   "file_extension": ".py",
   "mimetype": "text/x-python",
   "name": "python",
   "nbconvert_exporter": "python",
   "pygments_lexer": "ipython3",
   "version": "3.10.9"
  }
 },
 "nbformat": 4,
 "nbformat_minor": 5
}
