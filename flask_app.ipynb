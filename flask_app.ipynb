{
 "cells": [
  {
   "cell_type": "code",
   "execution_count": 13,
   "id": "69a426a2-955b-46f4-880f-7c9bb46a6853",
   "metadata": {},
   "outputs": [],
   "source": [
    "!python -m venv edu_app"
   ]
  },
  {
   "cell_type": "code",
   "execution_count": 14,
   "id": "22580ba1-49c0-4e10-9cd8-8af28cdbf28e",
   "metadata": {},
   "outputs": [
    {
     "name": "stdout",
     "output_type": "stream",
     "text": [
      "README.md                  modeling.ipynb\n",
      "Untitled.ipynb             modeling.py\n",
      "\u001b[34m__pycache__\u001b[m\u001b[m                modeling_edu_data.csv\n",
      "acquire.ipynb              prepare.ipynb\n",
      "acquire.py                 prepare.py\n",
      "edu_analysis.csv           prepare_rewrite.ipynb\n",
      "\u001b[34medu_app\u001b[m\u001b[m                    prepared_edu_dataframe.csv\n",
      "explore.ipynb              preprocessed_edu_data.csv\n",
      "explore.py                 preprocessing.ipynb\n",
      "\u001b[34mfile copy \u001b[m\u001b[m                 wrangle.py\n",
      "final_report.ipynb\n"
     ]
    }
   ],
   "source": [
    "!ls"
   ]
  }
 ],
 "metadata": {
  "kernelspec": {
   "display_name": "Python 3 (ipykernel)",
   "language": "python",
   "name": "python3"
  },
  "language_info": {
   "codemirror_mode": {
    "name": "ipython",
    "version": 3
   },
   "file_extension": ".py",
   "mimetype": "text/x-python",
   "name": "python",
   "nbconvert_exporter": "python",
   "pygments_lexer": "ipython3",
   "version": "3.10.9"
  }
 },
 "nbformat": 4,
 "nbformat_minor": 5
}
