{
 "cells": [
  {
   "cell_type": "markdown",
   "id": "0a1d3c2f-fa9e-4db5-8f57-8125e022921c",
   "metadata": {},
   "source": [
    "# Here we are creating an application for production of this model. "
   ]
  },
  {
   "cell_type": "code",
   "execution_count": 1,
   "id": "46e3b9fa-db1e-4491-8663-615587dfb7de",
   "metadata": {},
   "outputs": [],
   "source": [
    "import pickle\n",
    "with open('model_pickle.pkl', 'rb') as f:\n",
    "    model = pickle.load(f)\n"
   ]
  },
  {
   "cell_type": "markdown",
   "id": "cb20926c-7c61-4158-bb42-43e432493721",
   "metadata": {},
   "source": [
    "# Importing the google form responses"
   ]
  },
  {
   "cell_type": "code",
   "execution_count": 2,
   "id": "54d32563-5f57-4511-9168-83f8fdc9a976",
   "metadata": {},
   "outputs": [],
   "source": [
    "url = 'https://docs.google.com/spreadsheets/d/1EI0nK3E2EJkcy2g23vNrHBvGo0ExEO-RF4SRnSGdmo4/edit?usp=sharing'"
   ]
  },
  {
   "cell_type": "code",
   "execution_count": 3,
   "id": "11f49340-6484-45ba-88fd-0037e9208945",
   "metadata": {},
   "outputs": [],
   "source": [
    "csv_export_url = url.replace('/edit?usp=sharing', '/export?format=csv')"
   ]
  },
  {
   "cell_type": "code",
   "execution_count": 4,
   "id": "32d17fdb-a718-428f-b039-97e39be10d42",
   "metadata": {},
   "outputs": [],
   "source": [
    "import pandas as pd \n",
    "df = pd.read_csv(csv_export_url)"
   ]
  },
  {
   "cell_type": "code",
   "execution_count": 5,
   "id": "bbb80e64-75e3-4f43-b978-c7e347cae40c",
   "metadata": {},
   "outputs": [
    {
     "data": {
      "text/html": [
       "<div>\n",
       "<style scoped>\n",
       "    .dataframe tbody tr th:only-of-type {\n",
       "        vertical-align: middle;\n",
       "    }\n",
       "\n",
       "    .dataframe tbody tr th {\n",
       "        vertical-align: top;\n",
       "    }\n",
       "\n",
       "    .dataframe thead th {\n",
       "        text-align: right;\n",
       "    }\n",
       "</style>\n",
       "<table border=\"1\" class=\"dataframe\">\n",
       "  <thead>\n",
       "    <tr style=\"text-align: right;\">\n",
       "      <th></th>\n",
       "      <th>Timestamp</th>\n",
       "      <th>What is the student ID</th>\n",
       "      <th>Do you currently have a College Degree</th>\n",
       "      <th>Does your student receive free/reduced lunch?</th>\n",
       "      <th>Are you currently Married</th>\n",
       "      <th>Is the student the first child ?</th>\n",
       "      <th>How many siblings</th>\n",
       "      <th>Does your student ride the bus?</th>\n",
       "    </tr>\n",
       "  </thead>\n",
       "  <tbody>\n",
       "    <tr>\n",
       "      <th>0</th>\n",
       "      <td>7/12/2023 12:03:32</td>\n",
       "      <td>AD32</td>\n",
       "      <td>No</td>\n",
       "      <td>No</td>\n",
       "      <td>Yes</td>\n",
       "      <td>Yes</td>\n",
       "      <td>1</td>\n",
       "      <td>No</td>\n",
       "    </tr>\n",
       "    <tr>\n",
       "      <th>1</th>\n",
       "      <td>7/12/2023 12:07:17</td>\n",
       "      <td>AW43</td>\n",
       "      <td>Yes</td>\n",
       "      <td>No</td>\n",
       "      <td>Yes</td>\n",
       "      <td>Yes</td>\n",
       "      <td>1</td>\n",
       "      <td>Yes</td>\n",
       "    </tr>\n",
       "  </tbody>\n",
       "</table>\n",
       "</div>"
      ],
      "text/plain": [
       "            Timestamp What is the student ID   \\\n",
       "0  7/12/2023 12:03:32                    AD32   \n",
       "1  7/12/2023 12:07:17                    AW43   \n",
       "\n",
       "  Do you currently have a College Degree  \\\n",
       "0                                     No   \n",
       "1                                    Yes   \n",
       "\n",
       "  Does your student receive free/reduced lunch? Are you currently Married  \\\n",
       "0                                            No                       Yes   \n",
       "1                                            No                       Yes   \n",
       "\n",
       "  Is the student the first child ?  How many siblings   \\\n",
       "0                              Yes                   1   \n",
       "1                              Yes                   1   \n",
       "\n",
       "  Does your student ride the bus?   \n",
       "0                               No  \n",
       "1                              Yes  "
      ]
     },
     "execution_count": 5,
     "metadata": {},
     "output_type": "execute_result"
    }
   ],
   "source": [
    "df"
   ]
  },
  {
   "cell_type": "code",
   "execution_count": 8,
   "id": "3305aa60-6686-4828-924c-c84812353522",
   "metadata": {},
   "outputs": [],
   "source": [
    "df.columns = ['time_stamp','student_id', 'has_college_degree', 'free_reduced_lunch', 'parents_married', 'is_first_child','nr_siblings', 'rides_bus']\n",
    "student_id = df['student_id']"
   ]
  },
  {
   "cell_type": "code",
   "execution_count": 9,
   "id": "f620a3ca-f782-4959-a294-441aef46f8f6",
   "metadata": {},
   "outputs": [],
   "source": [
    "df = df[['has_college_degree', 'free_reduced_lunch', 'parents_married', 'is_first_child','nr_siblings', 'rides_bus']].copy()"
   ]
  },
  {
   "cell_type": "code",
   "execution_count": 10,
   "id": "4127e303-fc87-4ccc-b2db-b73b2265df82",
   "metadata": {},
   "outputs": [],
   "source": [
    "change_values = {'Yes': 1,\n",
    "                'No': 0\n",
    "                }\n",
    "df = df.replace(change_values)"
   ]
  },
  {
   "cell_type": "code",
   "execution_count": 11,
   "id": "3756a08b-b06b-437f-8af7-a9ecd28b0faa",
   "metadata": {},
   "outputs": [],
   "source": [
    "predicted_proabability = pd.DataFrame(model.predict_proba(df), columns=['proab_of_low_risk', 'proab_of_high_risk'])"
   ]
  },
  {
   "cell_type": "code",
   "execution_count": 16,
   "id": "f62e935a-4c33-4a3f-804d-5231510d54ba",
   "metadata": {},
   "outputs": [],
   "source": [
    "df = df.merge(right=predicted_proabability.proab_of_high_risk, how='left', left_index=True, right_index=True)"
   ]
  },
  {
   "cell_type": "code",
   "execution_count": 20,
   "id": "ffeb45d9-2dc1-43e9-9ad5-b245856147ee",
   "metadata": {},
   "outputs": [],
   "source": [
    "df['student_id'] = student_id\n",
    "df = df[['student_id', 'has_college_degree', 'free_reduced_lunch', 'parents_married','is_first_child', 'nr_siblings', 'rides_bus', 'proab_of_high_risk']]"
   ]
  },
  {
   "cell_type": "code",
   "execution_count": 36,
   "id": "bcaac412-d5d9-49b4-837d-fdbc0073b219",
   "metadata": {},
   "outputs": [
    {
     "name": "stdout",
     "output_type": "stream",
     "text": [
      "Student ID: AD32\n",
      "Predicted probability of being high risk 75.0\n",
      "Student ID: AW43\n",
      "Predicted probability of being high risk 64.0\n"
     ]
    }
   ],
   "source": [
    "def get_results(df)\n",
    "    for n in range(len(df)):\n",
    "        print(f'Student ID: {df.student_id[n]}')\n",
    "        print(f'Predicted probability of being high risk {((round(df.proab_of_high_risk,2))* 100)[n]}')\n"
   ]
  },
  {
   "cell_type": "code",
   "execution_count": 31,
   "id": "1f7b5919-96d6-4489-aabb-0d48d8692059",
   "metadata": {},
   "outputs": [
    {
     "data": {
      "text/plain": [
       "'AD32'"
      ]
     },
     "execution_count": 31,
     "metadata": {},
     "output_type": "execute_result"
    }
   ],
   "source": [
    "df.student_id[0]"
   ]
  }
 ],
 "metadata": {
  "kernelspec": {
   "display_name": "Python 3 (ipykernel)",
   "language": "python",
   "name": "python3"
  },
  "language_info": {
   "codemirror_mode": {
    "name": "ipython",
    "version": 3
   },
   "file_extension": ".py",
   "mimetype": "text/x-python",
   "name": "python",
   "nbconvert_exporter": "python",
   "pygments_lexer": "ipython3",
   "version": "3.10.9"
  }
 },
 "nbformat": 4,
 "nbformat_minor": 5
}
