{
 "cells": [
  {
   "cell_type": "markdown",
   "id": "83391063-e7f2-4e5c-8020-0d3f0ca46a7c",
   "metadata": {},
   "source": [
    "# What are we learning today?"
   ]
  },
  {
   "cell_type": "markdown",
   "id": "e204fa55-f0ee-4602-be0f-b58dbd053f4e",
   "metadata": {},
   "source": [
    "## Here is the name of the thing we are learning more about! "
   ]
  },
  {
   "cell_type": "markdown",
   "id": "44f11ff0-1b59-4307-87ed-60dc0cb97f54",
   "metadata": {},
   "source": [
    "    Talk about what the basic concept is and how it can be useful to your day to day life in python or why you think learning this would help. Include links to documentation. "
   ]
  },
  {
   "cell_type": "markdown",
   "id": "73df56d6-0a4d-4a78-9d10-c94e3cdc751c",
   "metadata": {},
   "source": [
    "### Here are some basic syntaxs for the topic."
   ]
  },
  {
   "cell_type": "code",
   "execution_count": null,
   "id": "5a412f8a-add3-4e35-bafe-92d93ce61deb",
   "metadata": {},
   "outputs": [],
   "source": []
  },
  {
   "cell_type": "code",
   "execution_count": null,
   "id": "687db1f0-6d72-4cc4-a25c-4a14275e1d6e",
   "metadata": {},
   "outputs": [],
   "source": []
  },
  {
   "cell_type": "code",
   "execution_count": null,
   "id": "fff5b422-83f2-46e7-b4a8-546e4e7b4e15",
   "metadata": {},
   "outputs": [],
   "source": []
  },
  {
   "cell_type": "markdown",
   "id": "7e3a1b13-22fa-4661-8bab-499eecc2ebc5",
   "metadata": {},
   "source": [
    "### Here is some more intermediate uses:"
   ]
  },
  {
   "cell_type": "code",
   "execution_count": null,
   "id": "22251ab1-2fe2-4b9e-951f-d662bad67fcf",
   "metadata": {},
   "outputs": [],
   "source": []
  },
  {
   "cell_type": "code",
   "execution_count": null,
   "id": "1e826b61-b727-46cd-b6ca-4a8060455827",
   "metadata": {},
   "outputs": [],
   "source": []
  },
  {
   "cell_type": "code",
   "execution_count": null,
   "id": "91246e0c-7c96-4eaf-acc7-3ee3038eec9a",
   "metadata": {},
   "outputs": [],
   "source": []
  },
  {
   "cell_type": "markdown",
   "id": "7085ec75-1f1f-445b-aee2-31f7513f36f5",
   "metadata": {},
   "source": [
    "### Here you can show/ talk about how to use in advance settings."
   ]
  },
  {
   "cell_type": "code",
   "execution_count": null,
   "id": "d226389f-0b96-4c00-9a31-7af0ffbf3385",
   "metadata": {},
   "outputs": [],
   "source": []
  },
  {
   "cell_type": "code",
   "execution_count": null,
   "id": "75b67093-a47f-4a6d-95be-1b15afc3789a",
   "metadata": {},
   "outputs": [],
   "source": []
  },
  {
   "cell_type": "code",
   "execution_count": null,
   "id": "65ceeae4-4ffb-45c2-bb84-c6419e456d53",
   "metadata": {},
   "outputs": [],
   "source": []
  },
  {
   "cell_type": "markdown",
   "id": "e61e9e54-6569-4d4e-bd1c-5213af0ed7f6",
   "metadata": {},
   "source": [
    "### Lets Practice: here you can practice using the topic and become more familiar with the topic"
   ]
  },
  {
   "cell_type": "code",
   "execution_count": null,
   "id": "ed3a9dbb-10c8-46fa-a850-c6a4a0fd18e7",
   "metadata": {},
   "outputs": [],
   "source": []
  },
  {
   "cell_type": "code",
   "execution_count": null,
   "id": "1d489ce6-5fc7-4048-8239-23c3fafb679a",
   "metadata": {},
   "outputs": [],
   "source": []
  },
  {
   "cell_type": "code",
   "execution_count": null,
   "id": "f8ce9952-6833-4758-8fd5-dc60906d49e1",
   "metadata": {},
   "outputs": [],
   "source": []
  },
  {
   "cell_type": "code",
   "execution_count": null,
   "id": "f07f7259-26c3-4534-b4d1-b95231b6e33f",
   "metadata": {},
   "outputs": [],
   "source": []
  },
  {
   "cell_type": "code",
   "execution_count": null,
   "id": "ae084449-c736-4624-ade5-83300561fbd1",
   "metadata": {},
   "outputs": [],
   "source": []
  },
  {
   "cell_type": "code",
   "execution_count": null,
   "id": "74feb68c-9d68-4fc0-8a0b-13bc8c5d26b0",
   "metadata": {},
   "outputs": [],
   "source": []
  },
  {
   "cell_type": "code",
   "execution_count": null,
   "id": "81ca2129-ee7e-4601-a210-c1efb5cd4e7a",
   "metadata": {},
   "outputs": [],
   "source": []
  },
  {
   "cell_type": "code",
   "execution_count": null,
   "id": "3143fa1f-cd29-44c7-83ee-79154fa65e73",
   "metadata": {},
   "outputs": [],
   "source": []
  },
  {
   "cell_type": "code",
   "execution_count": null,
   "id": "f322646d-8db4-4bbc-be31-6150c837c330",
   "metadata": {},
   "outputs": [],
   "source": []
  },
  {
   "cell_type": "code",
   "execution_count": null,
   "id": "2e527178-b402-4295-9e29-f138a58dba7a",
   "metadata": {},
   "outputs": [],
   "source": []
  },
  {
   "cell_type": "code",
   "execution_count": null,
   "id": "577e91bc-4a4f-4c09-bb33-381364c0ba7a",
   "metadata": {},
   "outputs": [],
   "source": []
  },
  {
   "cell_type": "code",
   "execution_count": null,
   "id": "87174840-f6f0-4293-b3f9-a5c0be54e82c",
   "metadata": {},
   "outputs": [],
   "source": []
  }
 ],
 "metadata": {
  "kernelspec": {
   "display_name": "Python 3 (ipykernel)",
   "language": "python",
   "name": "python3"
  },
  "language_info": {
   "codemirror_mode": {
    "name": "ipython",
    "version": 3
   },
   "file_extension": ".py",
   "mimetype": "text/x-python",
   "name": "python",
   "nbconvert_exporter": "python",
   "pygments_lexer": "ipython3",
   "version": "3.9.13"
  }
 },
 "nbformat": 4,
 "nbformat_minor": 5
}
