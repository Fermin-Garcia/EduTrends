{
 "cells": [
  {
   "cell_type": "code",
   "execution_count": 1,
   "id": "15532d15-6e9c-403f-a3a9-0cd456743e89",
   "metadata": {},
   "outputs": [],
   "source": [
    "# Imports\n",
    "import scipy.stats as stats\n",
    "import numpy as np\n",
    "import pandas as pd\n",
    "from pandasai import PandasAI\n",
    "import matplotlib.pyplot as plt\n",
    "import seaborn as sns\n",
    "import scipy.stats as stats\n",
    "import explore as e\n",
    "import prepare\n",
    "import warnings\n",
    "warnings.filterwarnings(\"ignore\")\n",
    "import plotly.express\n",
    "from sklearn.ensemble import RandomForestClassifier\n",
    "from sklearn.metrics import classification_report\n",
    "from sklearn.metrics import confusion_matrix\n",
    "from sklearn.tree import DecisionTreeClassifier, plot_tree\n",
    "from sklearn.neighbors import KNeighborsClassifier\n",
    "from sklearn.linear_model import LogisticRegression\n",
    "\n",
    "df = prepare.prepare_edu()\n"
   ]
  },
  {
   "cell_type": "code",
   "execution_count": 2,
   "id": "f6523cba-f067-4e42-b711-899b23915191",
   "metadata": {
    "tags": []
   },
   "outputs": [],
   "source": [
    "train, validate, test = prepare.split(df)\n",
    "modeling = ['parent_educ_bachelors_degree', 'parent_educ_high_school','parent_educ_masters_degree', 'parent_educ_some_college','parent_educ_some_high_school', 'final_score', 'risk_rating',\n",
    "'free_reduced_lunch', 'test_prep_completed', 'is_male']\n",
    "df = df[modeling] \n",
    "train = train[modeling]\n",
    "validate = validate[modeling]\n",
    "test = test[modeling]\n"
   ]
  },
  {
   "cell_type": "code",
   "execution_count": 3,
   "id": "cca05ae4-b2e6-4a59-b5c2-41fe4ad4c1d8",
   "metadata": {},
   "outputs": [
    {
     "data": {
      "text/plain": [
       "Index(['parent_educ_bachelors_degree', 'parent_educ_high_school',\n",
       "       'parent_educ_masters_degree', 'parent_educ_some_college',\n",
       "       'parent_educ_some_high_school', 'final_score', 'risk_rating',\n",
       "       'free_reduced_lunch', 'test_prep_completed'],\n",
       "      dtype='object')"
      ]
     },
     "execution_count": 3,
     "metadata": {},
     "output_type": "execute_result"
    }
   ],
   "source": [
    "train.columns"
   ]
  },
  {
   "cell_type": "code",
   "execution_count": 4,
   "id": "570fd4c5-b9c8-49ea-80b0-16e1b15e48f2",
   "metadata": {
    "tags": []
   },
   "outputs": [],
   "source": [
    "X_train, y_train, X_validate, y_validate, X_test, y_test= e.modeling_split(train,validate,test)\n",
    "y_train.drop(columns='final_score', inplace=True)\n",
    "y_validate.drop(columns='final_score', inplace=True)\n",
    "y_test.drop(columns='final_score',inplace=True)"
   ]
  },
  {
   "cell_type": "markdown",
   "id": "f588458e-83cf-4e96-8850-28157ff69b61",
   "metadata": {
    "tags": []
   },
   "source": [
    "# Lets set some baselines for our model (risk_rating)"
   ]
  },
  {
   "cell_type": "markdown",
   "id": "183b0f1c-f603-4e46-85f4-b365275870a4",
   "metadata": {
    "tags": []
   },
   "source": [
    "    First let's look at what is the most common occurrence of the risk rating "
   ]
  },
  {
   "cell_type": "code",
   "execution_count": 5,
   "id": "f95a2c37-67f6-4ea0-95c5-a8b917b2c185",
   "metadata": {
    "tags": []
   },
   "outputs": [
    {
     "data": {
      "text/plain": [
       "risk_rating\n",
       "low_risk     13589\n",
       "high_risk     9853\n",
       "at_risk       7190\n",
       "Name: count, dtype: int64"
      ]
     },
     "execution_count": 5,
     "metadata": {},
     "output_type": "execute_result"
    }
   ],
   "source": [
    "df.risk_rating.value_counts()"
   ]
  },
  {
   "cell_type": "markdown",
   "id": "b7206dd9-302f-49a3-90ea-82d35e6e7d10",
   "metadata": {},
   "source": [
    "    We will set our baseline accordingly to the value counts above"
   ]
  },
  {
   "cell_type": "code",
   "execution_count": 6,
   "id": "1f611f67-260a-46a9-b29d-114fe0fe138b",
   "metadata": {},
   "outputs": [
    {
     "data": {
      "text/html": [
       "<div>\n",
       "<style scoped>\n",
       "    .dataframe tbody tr th:only-of-type {\n",
       "        vertical-align: middle;\n",
       "    }\n",
       "\n",
       "    .dataframe tbody tr th {\n",
       "        vertical-align: top;\n",
       "    }\n",
       "\n",
       "    .dataframe thead th {\n",
       "        text-align: right;\n",
       "    }\n",
       "</style>\n",
       "<table border=\"1\" class=\"dataframe\">\n",
       "  <thead>\n",
       "    <tr style=\"text-align: right;\">\n",
       "      <th></th>\n",
       "      <th>parent_educ_bachelors_degree</th>\n",
       "      <th>parent_educ_high_school</th>\n",
       "      <th>parent_educ_masters_degree</th>\n",
       "      <th>parent_educ_some_college</th>\n",
       "      <th>parent_educ_some_high_school</th>\n",
       "      <th>free_reduced_lunch</th>\n",
       "      <th>test_prep_completed</th>\n",
       "    </tr>\n",
       "  </thead>\n",
       "  <tbody>\n",
       "    <tr>\n",
       "      <th>30178</th>\n",
       "      <td>0</td>\n",
       "      <td>0</td>\n",
       "      <td>0</td>\n",
       "      <td>1</td>\n",
       "      <td>0</td>\n",
       "      <td>0</td>\n",
       "      <td>1</td>\n",
       "    </tr>\n",
       "    <tr>\n",
       "      <th>15705</th>\n",
       "      <td>0</td>\n",
       "      <td>1</td>\n",
       "      <td>0</td>\n",
       "      <td>0</td>\n",
       "      <td>0</td>\n",
       "      <td>0</td>\n",
       "      <td>1</td>\n",
       "    </tr>\n",
       "    <tr>\n",
       "      <th>7163</th>\n",
       "      <td>0</td>\n",
       "      <td>0</td>\n",
       "      <td>0</td>\n",
       "      <td>1</td>\n",
       "      <td>0</td>\n",
       "      <td>1</td>\n",
       "      <td>0</td>\n",
       "    </tr>\n",
       "    <tr>\n",
       "      <th>4147</th>\n",
       "      <td>0</td>\n",
       "      <td>0</td>\n",
       "      <td>1</td>\n",
       "      <td>0</td>\n",
       "      <td>0</td>\n",
       "      <td>0</td>\n",
       "      <td>1</td>\n",
       "    </tr>\n",
       "    <tr>\n",
       "      <th>25763</th>\n",
       "      <td>0</td>\n",
       "      <td>0</td>\n",
       "      <td>1</td>\n",
       "      <td>0</td>\n",
       "      <td>0</td>\n",
       "      <td>1</td>\n",
       "      <td>0</td>\n",
       "    </tr>\n",
       "    <tr>\n",
       "      <th>...</th>\n",
       "      <td>...</td>\n",
       "      <td>...</td>\n",
       "      <td>...</td>\n",
       "      <td>...</td>\n",
       "      <td>...</td>\n",
       "      <td>...</td>\n",
       "      <td>...</td>\n",
       "    </tr>\n",
       "    <tr>\n",
       "      <th>17210</th>\n",
       "      <td>0</td>\n",
       "      <td>0</td>\n",
       "      <td>0</td>\n",
       "      <td>0</td>\n",
       "      <td>0</td>\n",
       "      <td>1</td>\n",
       "      <td>0</td>\n",
       "    </tr>\n",
       "    <tr>\n",
       "      <th>16733</th>\n",
       "      <td>0</td>\n",
       "      <td>0</td>\n",
       "      <td>1</td>\n",
       "      <td>0</td>\n",
       "      <td>0</td>\n",
       "      <td>1</td>\n",
       "      <td>1</td>\n",
       "    </tr>\n",
       "    <tr>\n",
       "      <th>26266</th>\n",
       "      <td>0</td>\n",
       "      <td>0</td>\n",
       "      <td>0</td>\n",
       "      <td>1</td>\n",
       "      <td>0</td>\n",
       "      <td>0</td>\n",
       "      <td>1</td>\n",
       "    </tr>\n",
       "    <tr>\n",
       "      <th>13470</th>\n",
       "      <td>0</td>\n",
       "      <td>0</td>\n",
       "      <td>0</td>\n",
       "      <td>0</td>\n",
       "      <td>0</td>\n",
       "      <td>0</td>\n",
       "      <td>0</td>\n",
       "    </tr>\n",
       "    <tr>\n",
       "      <th>16834</th>\n",
       "      <td>0</td>\n",
       "      <td>0</td>\n",
       "      <td>0</td>\n",
       "      <td>0</td>\n",
       "      <td>1</td>\n",
       "      <td>1</td>\n",
       "      <td>0</td>\n",
       "    </tr>\n",
       "  </tbody>\n",
       "</table>\n",
       "<p>17153 rows × 7 columns</p>\n",
       "</div>"
      ],
      "text/plain": [
       "       parent_educ_bachelors_degree  parent_educ_high_school   \n",
       "30178                             0                        0  \\\n",
       "15705                             0                        1   \n",
       "7163                              0                        0   \n",
       "4147                              0                        0   \n",
       "25763                             0                        0   \n",
       "...                             ...                      ...   \n",
       "17210                             0                        0   \n",
       "16733                             0                        0   \n",
       "26266                             0                        0   \n",
       "13470                             0                        0   \n",
       "16834                             0                        0   \n",
       "\n",
       "       parent_educ_masters_degree  parent_educ_some_college   \n",
       "30178                           0                         1  \\\n",
       "15705                           0                         0   \n",
       "7163                            0                         1   \n",
       "4147                            1                         0   \n",
       "25763                           1                         0   \n",
       "...                           ...                       ...   \n",
       "17210                           0                         0   \n",
       "16733                           1                         0   \n",
       "26266                           0                         1   \n",
       "13470                           0                         0   \n",
       "16834                           0                         0   \n",
       "\n",
       "       parent_educ_some_high_school  free_reduced_lunch  test_prep_completed  \n",
       "30178                             0                   0                    1  \n",
       "15705                             0                   0                    1  \n",
       "7163                              0                   1                    0  \n",
       "4147                              0                   0                    1  \n",
       "25763                             0                   1                    0  \n",
       "...                             ...                 ...                  ...  \n",
       "17210                             0                   1                    0  \n",
       "16733                             0                   1                    1  \n",
       "26266                             0                   0                    1  \n",
       "13470                             0                   0                    0  \n",
       "16834                             1                   1                    0  \n",
       "\n",
       "[17153 rows x 7 columns]"
      ]
     },
     "execution_count": 6,
     "metadata": {},
     "output_type": "execute_result"
    }
   ],
   "source": [
    "X_train"
   ]
  },
  {
   "cell_type": "code",
   "execution_count": 7,
   "id": "591959a8-056f-4194-80b6-783a73a31ad6",
   "metadata": {
    "tags": []
   },
   "outputs": [],
   "source": [
    "master_df= df['baseline_risk_rating'] = 'high_risk'"
   ]
  },
  {
   "cell_type": "markdown",
   "id": "4fc8d1a9-444e-40e6-bc49-4fa9c352c562",
   "metadata": {},
   "source": [
    "# Random Forest Classifer"
   ]
  },
  {
   "cell_type": "code",
   "execution_count": 53,
   "id": "b7b999a0-6e60-4b44-b7f6-bd4237a46e70",
   "metadata": {},
   "outputs": [
    {
     "name": "stdout",
     "output_type": "stream",
     "text": [
      "              precision    recall  f1-score   support\n",
      "\n",
      "     at_risk       0.54      0.20      0.30      3978\n",
      "   high_risk       0.54      0.43      0.47      5530\n",
      "    low_risk       0.48      0.71      0.57      7645\n",
      "\n",
      "    accuracy                           0.50     17153\n",
      "   macro avg       0.52      0.45      0.45     17153\n",
      "weighted avg       0.51      0.50      0.48     17153\n",
      "\n"
     ]
    }
   ],
   "source": [
    "# make the model \n",
    "rf = RandomForestClassifier(bootstrap=True, \n",
    "                            class_weight=None, \n",
    "                            criterion='gini',\n",
    "                            min_samples_leaf=8,\n",
    "                            n_estimators=100,\n",
    "                            max_depth=6, \n",
    "                            random_state=123)\n",
    "\n",
    "rf.fit(X_train, y_train)\n",
    "y_pred_rf = rf.predict(X_train)\n",
    "y_pred_proba = rf.predict_proba(X_train)\n",
    "train_models = pd.DataFrame()\n",
    "train_models['actual'] = y_train\n",
    "train_models['baseline'] = 'low_risk'\n",
    "train_models['random_forest'] = y_pred_rf\n",
    "print(classification_report(y_train, y_pred_rf))"
   ]
  },
  {
   "cell_type": "code",
   "execution_count": null,
   "id": "a530bfff-f154-4a58-8990-2af7f223f0eb",
   "metadata": {},
   "outputs": [],
   "source": []
  },
  {
   "cell_type": "code",
   "execution_count": null,
   "id": "c33df016-2b4b-4244-9dff-aba349c5084b",
   "metadata": {},
   "outputs": [],
   "source": []
  },
  {
   "cell_type": "code",
   "execution_count": 9,
   "id": "2efb83c4-24a7-4a4d-b649-c564cc721a32",
   "metadata": {
    "tags": []
   },
   "outputs": [],
   "source": [
    "# # Make the model\n",
    "# rf = RandomForestClassifier(bootstrap=True, \n",
    "#                             class_weight=None, \n",
    "#                             criterion='gini',\n",
    "#                             min_samples_leaf=8,\n",
    "#                             n_estimators=100,\n",
    "#                             max_depth=10, \n",
    "#                             random_state=123)\n",
    "\n",
    "# rf.fit(X_train, y_train)\n",
    "\n",
    "# # Use the model to predict the validation group\n",
    "# y_pred = rf.predict(X_validate)\n",
    "# y_pred_proba = rf.predict_proba(X_validate)\n",
    "\n",
    "# # Create a DataFrame to store the results\n",
    "# validate_models = pd.DataFrame()\n",
    "# validate_models['actual'] = y_validate\n",
    "# validate_models['baseline'] = 'low_risk'\n",
    "# validate_models['random_forest'] = y_pred\n",
    "\n",
    "# # Print the classification report for the validation group\n",
    "# print(classification_report(y_validate, y_pred))\n"
   ]
  },
  {
   "cell_type": "markdown",
   "id": "77c33f5c-17ad-4caf-81cc-006ac4e87b43",
   "metadata": {},
   "source": [
    "# Descion Tree"
   ]
  },
  {
   "cell_type": "code",
   "execution_count": 41,
   "id": "b29e48af-6cc3-46cd-b15e-49e17b6ef7ec",
   "metadata": {},
   "outputs": [],
   "source": [
    "clf = DecisionTreeClassifier(criterion='entropy', max_depth=8, random_state=123)"
   ]
  },
  {
   "cell_type": "code",
   "execution_count": 42,
   "id": "e2d2ddd9-4752-42dc-8d50-9c995c58d0b4",
   "metadata": {},
   "outputs": [],
   "source": [
    "clf = clf.fit(X_train, y_train)\n",
    "y_pred_clf= clf.predict(X_train)"
   ]
  },
  {
   "cell_type": "code",
   "execution_count": 43,
   "id": "71496c43-654e-4cc5-b5d0-1e3a5e1cb957",
   "metadata": {},
   "outputs": [
    {
     "data": {
      "image/png": "[encoded data removed]",
      "text/plain": [
       "<Figure size 1300x700 with 1 Axes>"
      ]
     },
     "metadata": {},
     "output_type": "display_data"
    }
   ],
   "source": [
    "plt.figure(figsize=(13, 7))\n",
    "plot_tree(clf, feature_names=X_train.columns, class_names=clf.classes_, rounded=True)\n",
    "plt.show()"
   ]
  },
  {
   "cell_type": "code",
   "execution_count": 44,
   "id": "7927f2cf-a128-4fa4-8bb3-86ef04995bd3",
   "metadata": {},
   "outputs": [
    {
     "name": "stdout",
     "output_type": "stream",
     "text": [
      "              precision    recall  f1-score   support\n",
      "\n",
      "     at_risk       0.54      0.20      0.30      3978\n",
      "   high_risk       0.54      0.43      0.47      5530\n",
      "    low_risk       0.48      0.71      0.57      7645\n",
      "\n",
      "    accuracy                           0.50     17153\n",
      "   macro avg       0.52      0.45      0.45     17153\n",
      "weighted avg       0.51      0.50      0.48     17153\n",
      "\n"
     ]
    }
   ],
   "source": [
    "print(classification_report(y_train, y_pred_clf))"
   ]
  },
  {
   "cell_type": "markdown",
   "id": "627b12fb-6fc6-410c-bed9-74bfb89d86a6",
   "metadata": {},
   "source": []
  },
  {
   "cell_type": "code",
   "execution_count": 14,
   "id": "08eae65f-d17b-4bab-a980-4693ec7934e5",
   "metadata": {
    "tags": []
   },
   "outputs": [],
   "source": [
    "# y_pred_clf_val = clf.predict(X_validate)\n",
    "\n",
    "# # Compare actual y values (from validate) to predicted y_values from the model run on X_validate\n",
    "# print(classification_report(y_validate, y_pred_clf_val))"
   ]
  },
  {
   "cell_type": "code",
   "execution_count": null,
   "id": "1a38e7e6-69ff-4f73-9b3d-7fa726ee0be3",
   "metadata": {},
   "outputs": [],
   "source": []
  },
  {
   "cell_type": "code",
   "execution_count": 15,
   "id": "c1fc61b5-93fe-426d-994a-fdf159dfa4a6",
   "metadata": {},
   "outputs": [],
   "source": [
    "# y_pred_clf = clf.predict(X_test)\n",
    "\n",
    "# # Compare actual y values (from validate) to predicted y_values from the model run on X_validate\n",
    "# print(classification_report(y_test, y_pred_clf))"
   ]
  },
  {
   "cell_type": "markdown",
   "id": "83d537d7-c589-49e2-87a2-7be3bf992ed1",
   "metadata": {
    "tags": []
   },
   "source": [
    "## KNN "
   ]
  },
  {
   "cell_type": "code",
   "execution_count": 16,
   "id": "de26611d-0f19-4979-8863-7ddeaeb0640c",
   "metadata": {},
   "outputs": [],
   "source": [
    "knn = KNeighborsClassifier(n_neighbors=4, weights='distance', algorithm='auto')"
   ]
  },
  {
   "cell_type": "code",
   "execution_count": 17,
   "id": "0edd2954-e33a-4aee-8a63-a8545646215d",
   "metadata": {},
   "outputs": [
    {
     "data": {
      "text/html": [
       "<style>#sk-container-id-1 {color: black;background-color: white;}#sk-container-id-1 pre{padding: 0;}#sk-container-id-1 div.sk-toggleable {background-color: white;}#sk-container-id-1 label.sk-toggleable__label {cursor: pointer;display: block;width: 100%;margin-bottom: 0;padding: 0.3em;box-sizing: border-box;text-align: center;}#sk-container-id-1 label.sk-toggleable__label-arrow:before {content: \"▸\";float: left;margin-right: 0.25em;color: #696969;}#sk-container-id-1 label.sk-toggleable__label-arrow:hover:before {color: black;}#sk-container-id-1 div.sk-estimator:hover label.sk-toggleable__label-arrow:before {color: black;}#sk-container-id-1 div.sk-toggleable__content {max-height: 0;max-width: 0;overflow: hidden;text-align: left;background-color: #f0f8ff;}#sk-container-id-1 div.sk-toggleable__content pre {margin: 0.2em;color: black;border-radius: 0.25em;background-color: #f0f8ff;}#sk-container-id-1 input.sk-toggleable__control:checked~div.sk-toggleable__content {max-height: 200px;max-width: 100%;overflow: auto;}#sk-container-id-1 input.sk-toggleable__control:checked~label.sk-toggleable__label-arrow:before {content: \"▾\";}#sk-container-id-1 div.sk-estimator input.sk-toggleable__control:checked~label.sk-toggleable__label {background-color: #d4ebff;}#sk-container-id-1 div.sk-label input.sk-toggleable__control:checked~label.sk-toggleable__label {background-color: #d4ebff;}#sk-container-id-1 input.sk-hidden--visually {border: 0;clip: rect(1px 1px 1px 1px);clip: rect(1px, 1px, 1px, 1px);height: 1px;margin: -1px;overflow: hidden;padding: 0;position: absolute;width: 1px;}#sk-container-id-1 div.sk-estimator {font-family: monospace;background-color: #f0f8ff;border: 1px dotted black;border-radius: 0.25em;box-sizing: border-box;margin-bottom: 0.5em;}#sk-container-id-1 div.sk-estimator:hover {background-color: #d4ebff;}#sk-container-id-1 div.sk-parallel-item::after {content: \"\";width: 100%;border-bottom: 1px solid gray;flex-grow: 1;}#sk-container-id-1 div.sk-label:hover label.sk-toggleable__label {background-color: #d4ebff;}#sk-container-id-1 div.sk-serial::before {content: \"\";position: absolute;border-left: 1px solid gray;box-sizing: border-box;top: 0;bottom: 0;left: 50%;z-index: 0;}#sk-container-id-1 div.sk-serial {display: flex;flex-direction: column;align-items: center;background-color: white;padding-right: 0.2em;padding-left: 0.2em;position: relative;}#sk-container-id-1 div.sk-item {position: relative;z-index: 1;}#sk-container-id-1 div.sk-parallel {display: flex;align-items: stretch;justify-content: center;background-color: white;position: relative;}#sk-container-id-1 div.sk-item::before, #sk-container-id-1 div.sk-parallel-item::before {content: \"\";position: absolute;border-left: 1px solid gray;box-sizing: border-box;top: 0;bottom: 0;left: 50%;z-index: -1;}#sk-container-id-1 div.sk-parallel-item {display: flex;flex-direction: column;z-index: 1;position: relative;background-color: white;}#sk-container-id-1 div.sk-parallel-item:first-child::after {align-self: flex-end;width: 50%;}#sk-container-id-1 div.sk-parallel-item:last-child::after {align-self: flex-start;width: 50%;}#sk-container-id-1 div.sk-parallel-item:only-child::after {width: 0;}#sk-container-id-1 div.sk-dashed-wrapped {border: 1px dashed gray;margin: 0 0.4em 0.5em 0.4em;box-sizing: border-box;padding-bottom: 0.4em;background-color: white;}#sk-container-id-1 div.sk-label label {font-family: monospace;font-weight: bold;display: inline-block;line-height: 1.2em;}#sk-container-id-1 div.sk-label-container {text-align: center;}#sk-container-id-1 div.sk-container {/* jupyter's `normalize.less` sets `[hidden] { display: none; }` but bootstrap.min.css set `[hidden] { display: none !important; }` so we also need the `!important` here to be able to override the default hidden behavior on the sphinx rendered scikit-learn.org. See: https://github.com/scikit-learn/scikit-learn/issues/21755 */display: inline-block !important;position: relative;}#sk-container-id-1 div.sk-text-repr-fallback {display: none;}</style><div id=\"sk-container-id-1\" class=\"sk-top-container\"><div class=\"sk-text-repr-fallback\"><pre>KNeighborsClassifier(n_neighbors=4, weights=&#x27;distance&#x27;)</pre><b>In a Jupyter environment, please rerun this cell to show the HTML representation or trust the notebook. <br />On GitHub, the HTML representation is unable to render, please try loading this page with nbviewer.org.</b></div><div class=\"sk-container\" hidden><div class=\"sk-item\"><div class=\"sk-estimator sk-toggleable\"><input class=\"sk-toggleable__control sk-hidden--visually\" id=\"sk-estimator-id-1\" type=\"checkbox\" checked><label for=\"sk-estimator-id-1\" class=\"sk-toggleable__label sk-toggleable__label-arrow\">KNeighborsClassifier</label><div class=\"sk-toggleable__content\"><pre>KNeighborsClassifier(n_neighbors=4, weights=&#x27;distance&#x27;)</pre></div></div></div></div></div>"
      ],
      "text/plain": [
       "KNeighborsClassifier(n_neighbors=4, weights='distance')"
      ]
     },
     "execution_count": 17,
     "metadata": {},
     "output_type": "execute_result"
    }
   ],
   "source": [
    "knn.fit(X_train, y_train)"
   ]
  },
  {
   "cell_type": "code",
   "execution_count": 18,
   "id": "5d07c135-bbe3-4a0d-bcb7-55fb2ea1055e",
   "metadata": {},
   "outputs": [],
   "source": [
    "y_pred_knn = knn.predict(X_train)\n",
    "y_pred_proba = knn.predict_proba(X_train)"
   ]
  },
  {
   "cell_type": "code",
   "execution_count": 19,
   "id": "a3b69dfa-8b6a-4e1d-857f-6ab3fbc27679",
   "metadata": {},
   "outputs": [
    {
     "name": "stdout",
     "output_type": "stream",
     "text": [
      "              precision    recall  f1-score   support\n",
      "\n",
      "     at_risk       0.41      0.35      0.38      3978\n",
      "   high_risk       0.46      0.53      0.49      5530\n",
      "    low_risk       0.48      0.46      0.47      7645\n",
      "\n",
      "    accuracy                           0.46     17153\n",
      "   macro avg       0.45      0.45      0.45     17153\n",
      "weighted avg       0.46      0.46      0.46     17153\n",
      "\n"
     ]
    }
   ],
   "source": [
    "print(classification_report(y_train, y_pred_knn))"
   ]
  },
  {
   "cell_type": "markdown",
   "id": "9c17a28b-e19b-46b0-87d7-b448999ad8d7",
   "metadata": {},
   "source": [
    "# Logistic Regression"
   ]
  },
  {
   "cell_type": "code",
   "execution_count": 20,
   "id": "acef337d-7c31-4ded-9a01-5920f15a09ac",
   "metadata": {},
   "outputs": [],
   "source": [
    "logit = LogisticRegression(C=1, random_state=123, intercept_scaling=1, solver='lbfgs')"
   ]
  },
  {
   "cell_type": "code",
   "execution_count": 21,
   "id": "d3f052ae-d042-421c-a123-f4f0b1bc6e54",
   "metadata": {},
   "outputs": [
    {
     "data": {
      "text/html": [
       "<style>#sk-container-id-2 {color: black;background-color: white;}#sk-container-id-2 pre{padding: 0;}#sk-container-id-2 div.sk-toggleable {background-color: white;}#sk-container-id-2 label.sk-toggleable__label {cursor: pointer;display: block;width: 100%;margin-bottom: 0;padding: 0.3em;box-sizing: border-box;text-align: center;}#sk-container-id-2 label.sk-toggleable__label-arrow:before {content: \"▸\";float: left;margin-right: 0.25em;color: #696969;}#sk-container-id-2 label.sk-toggleable__label-arrow:hover:before {color: black;}#sk-container-id-2 div.sk-estimator:hover label.sk-toggleable__label-arrow:before {color: black;}#sk-container-id-2 div.sk-toggleable__content {max-height: 0;max-width: 0;overflow: hidden;text-align: left;background-color: #f0f8ff;}#sk-container-id-2 div.sk-toggleable__content pre {margin: 0.2em;color: black;border-radius: 0.25em;background-color: #f0f8ff;}#sk-container-id-2 input.sk-toggleable__control:checked~div.sk-toggleable__content {max-height: 200px;max-width: 100%;overflow: auto;}#sk-container-id-2 input.sk-toggleable__control:checked~label.sk-toggleable__label-arrow:before {content: \"▾\";}#sk-container-id-2 div.sk-estimator input.sk-toggleable__control:checked~label.sk-toggleable__label {background-color: #d4ebff;}#sk-container-id-2 div.sk-label input.sk-toggleable__control:checked~label.sk-toggleable__label {background-color: #d4ebff;}#sk-container-id-2 input.sk-hidden--visually {border: 0;clip: rect(1px 1px 1px 1px);clip: rect(1px, 1px, 1px, 1px);height: 1px;margin: -1px;overflow: hidden;padding: 0;position: absolute;width: 1px;}#sk-container-id-2 div.sk-estimator {font-family: monospace;background-color: #f0f8ff;border: 1px dotted black;border-radius: 0.25em;box-sizing: border-box;margin-bottom: 0.5em;}#sk-container-id-2 div.sk-estimator:hover {background-color: #d4ebff;}#sk-container-id-2 div.sk-parallel-item::after {content: \"\";width: 100%;border-bottom: 1px solid gray;flex-grow: 1;}#sk-container-id-2 div.sk-label:hover label.sk-toggleable__label {background-color: #d4ebff;}#sk-container-id-2 div.sk-serial::before {content: \"\";position: absolute;border-left: 1px solid gray;box-sizing: border-box;top: 0;bottom: 0;left: 50%;z-index: 0;}#sk-container-id-2 div.sk-serial {display: flex;flex-direction: column;align-items: center;background-color: white;padding-right: 0.2em;padding-left: 0.2em;position: relative;}#sk-container-id-2 div.sk-item {position: relative;z-index: 1;}#sk-container-id-2 div.sk-parallel {display: flex;align-items: stretch;justify-content: center;background-color: white;position: relative;}#sk-container-id-2 div.sk-item::before, #sk-container-id-2 div.sk-parallel-item::before {content: \"\";position: absolute;border-left: 1px solid gray;box-sizing: border-box;top: 0;bottom: 0;left: 50%;z-index: -1;}#sk-container-id-2 div.sk-parallel-item {display: flex;flex-direction: column;z-index: 1;position: relative;background-color: white;}#sk-container-id-2 div.sk-parallel-item:first-child::after {align-self: flex-end;width: 50%;}#sk-container-id-2 div.sk-parallel-item:last-child::after {align-self: flex-start;width: 50%;}#sk-container-id-2 div.sk-parallel-item:only-child::after {width: 0;}#sk-container-id-2 div.sk-dashed-wrapped {border: 1px dashed gray;margin: 0 0.4em 0.5em 0.4em;box-sizing: border-box;padding-bottom: 0.4em;background-color: white;}#sk-container-id-2 div.sk-label label {font-family: monospace;font-weight: bold;display: inline-block;line-height: 1.2em;}#sk-container-id-2 div.sk-label-container {text-align: center;}#sk-container-id-2 div.sk-container {/* jupyter's `normalize.less` sets `[hidden] { display: none; }` but bootstrap.min.css set `[hidden] { display: none !important; }` so we also need the `!important` here to be able to override the default hidden behavior on the sphinx rendered scikit-learn.org. See: https://github.com/scikit-learn/scikit-learn/issues/21755 */display: inline-block !important;position: relative;}#sk-container-id-2 div.sk-text-repr-fallback {display: none;}</style><div id=\"sk-container-id-2\" class=\"sk-top-container\"><div class=\"sk-text-repr-fallback\"><pre>LogisticRegression(C=1, random_state=123)</pre><b>In a Jupyter environment, please rerun this cell to show the HTML representation or trust the notebook. <br />On GitHub, the HTML representation is unable to render, please try loading this page with nbviewer.org.</b></div><div class=\"sk-container\" hidden><div class=\"sk-item\"><div class=\"sk-estimator sk-toggleable\"><input class=\"sk-toggleable__control sk-hidden--visually\" id=\"sk-estimator-id-2\" type=\"checkbox\" checked><label for=\"sk-estimator-id-2\" class=\"sk-toggleable__label sk-toggleable__label-arrow\">LogisticRegression</label><div class=\"sk-toggleable__content\"><pre>LogisticRegression(C=1, random_state=123)</pre></div></div></div></div></div>"
      ],
      "text/plain": [
       "LogisticRegression(C=1, random_state=123)"
      ]
     },
     "execution_count": 21,
     "metadata": {},
     "output_type": "execute_result"
    }
   ],
   "source": [
    "logit.fit(X_train, y_train)"
   ]
  },
  {
   "cell_type": "code",
   "execution_count": 22,
   "id": "5c2bb9f1-749c-4d8e-b856-83b7787159f1",
   "metadata": {},
   "outputs": [],
   "source": [
    "y_pred_lr = logit.predict(X_train)"
   ]
  },
  {
   "cell_type": "code",
   "execution_count": 23,
   "id": "38f6c481-2480-45e4-94db-9f0da0807f45",
   "metadata": {},
   "outputs": [
    {
     "name": "stdout",
     "output_type": "stream",
     "text": [
      "              precision    recall  f1-score   support\n",
      "\n",
      "     at_risk       0.50      0.32      0.39      3978\n",
      "   high_risk       0.54      0.43      0.47      5530\n",
      "    low_risk       0.48      0.65      0.55      7645\n",
      "\n",
      "    accuracy                           0.50     17153\n",
      "   macro avg       0.51      0.46      0.47     17153\n",
      "weighted avg       0.50      0.50      0.49     17153\n",
      "\n"
     ]
    }
   ],
   "source": [
    "print(classification_report(y_train, y_pred_lr))\n"
   ]
  },
  {
   "cell_type": "markdown",
   "id": "cb0496cd-15be-4694-966e-19a5a8c01fe3",
   "metadata": {
    "tags": []
   },
   "source": [
    "# Baseline model classification report"
   ]
  },
  {
   "cell_type": "code",
   "execution_count": 24,
   "id": "1af1f242-c373-41b3-8dad-81e47b87fbb4",
   "metadata": {},
   "outputs": [
    {
     "name": "stdout",
     "output_type": "stream",
     "text": [
      "              precision    recall  f1-score   support\n",
      "\n",
      "     at_risk       0.00      0.00      0.00      3978\n",
      "   high_risk       0.00      0.00      0.00      5530\n",
      "    low_risk       0.45      1.00      0.62      7645\n",
      "\n",
      "    accuracy                           0.45     17153\n",
      "   macro avg       0.15      0.33      0.21     17153\n",
      "weighted avg       0.20      0.45      0.27     17153\n",
      "\n"
     ]
    }
   ],
   "source": [
    "print(classification_report(y_train,train_models.baseline))"
   ]
  }
 ],
 "metadata": {
  "kernelspec": {
   "display_name": "Python 3 (ipykernel)",
   "language": "python",
   "name": "python3"
  },
  "language_info": {
   "codemirror_mode": {
    "name": "ipython",
    "version": 3
   },
   "file_extension": ".py",
   "mimetype": "text/x-python",
   "name": "python",
   "nbconvert_exporter": "python",
   "pygments_lexer": "ipython3",
   "version": "3.10.9"
  }
 },
 "nbformat": 4,
 "nbformat_minor": 5
}
