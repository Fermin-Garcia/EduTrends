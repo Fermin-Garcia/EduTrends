{
 "cells": [
  {
   "cell_type": "code",
   "execution_count": 2,
   "id": "15532d15-6e9c-403f-a3a9-0cd456743e89",
   "metadata": {},
   "outputs": [],
   "source": [
    "# Imports\n",
    "import scipy.stats as stats\n",
    "import numpy as np\n",
    "import pandas as pd\n",
    "from pandasai import PandasAI\n",
    "import matplotlib.pyplot as plt\n",
    "import seaborn as sns\n",
    "import scipy.stats as stats\n",
    "import explore as e\n",
    "import prepare\n",
    "import warnings\n",
    "warnings.filterwarnings(\"ignore\")\n",
    "import plotly.express\n",
    "from sklearn.ensemble import RandomForestClassifier\n",
    "from sklearn.metrics import classification_report\n",
    "from sklearn.metrics import confusion_matrix\n",
    "from sklearn.tree import DecisionTreeClassifier, plot_tree\n",
    "from sklearn.neighbors import KNeighborsClassifier\n",
    "from sklearn.linear_model import LogisticRegression\n",
    "\n",
    "df = prepare.prepare_edu()"
   ]
  },
  {
   "cell_type": "code",
   "execution_count": 2,
   "id": "f6523cba-f067-4e42-b711-899b23915191",
   "metadata": {
    "tags": []
   },
   "outputs": [],
   "source": [
    "train, validate, test = prepare.split(df)\n",
    "modeling = ['parent_educ_bachelors_degree', 'parent_educ_high_school','parent_educ_masters_degree', 'parent_educ_some_college','parent_educ_some_high_school', 'final_score', 'risk_rating',\n",
    "'free_reduced_lunch', 'test_prep_completed']\n",
    "df = df[modeling] \n",
    "train = train[modeling]\n",
    "validate = validate[modeling]\n",
    "test = test[modeling]"
   ]
  },
  {
   "cell_type": "code",
   "execution_count": 3,
   "id": "cca05ae4-b2e6-4a59-b5c2-41fe4ad4c1d8",
   "metadata": {},
   "outputs": [
    {
     "data": {
      "text/plain": [
       "Index(['is_male', 'free_reduced_lunch', 'test_prep_completed', 'practicesport',\n",
       "       'is_first_child', 'nrsiblings', 'rides_bus', 'math_score',\n",
       "       'reading_score', 'writing_score', 'final_score',\n",
       "       'parent_educ_bachelors_degree', 'parent_educ_high_school',\n",
       "       'parent_educ_masters_degree', 'parent_educ_some_college',\n",
       "       'parent_educ_some_high_school', 'parent_marital_status_married',\n",
       "       'parent_marital_status_single', 'parent_marital_status_widowed',\n",
       "       'wkly_study_hours_<_5', 'wkly_study_hours_>_10', 'risk_rating'],\n",
       "      dtype='object')"
      ]
     },
     "execution_count": 3,
     "metadata": {},
     "output_type": "execute_result"
    }
   ],
   "source": [
    "df.columns"
   ]
  },
  {
   "cell_type": "code",
   "execution_count": 4,
   "id": "570fd4c5-b9c8-49ea-80b0-16e1b15e48f2",
   "metadata": {
    "tags": []
   },
   "outputs": [],
   "source": [
    "X_train, y_train, X_validate, y_validate, X_test, y_test= e.modeling_split(train,validate,test)\n",
    "y_train.drop(columns='final_score', inplace=True)"
   ]
  },
  {
   "cell_type": "markdown",
   "id": "f588458e-83cf-4e96-8850-28157ff69b61",
   "metadata": {
    "tags": []
   },
   "source": [
    "# Lets set some baselines for our model (risk_rating)"
   ]
  },
  {
   "cell_type": "markdown",
   "id": "183b0f1c-f603-4e46-85f4-b365275870a4",
   "metadata": {
    "tags": []
   },
   "source": [
    "    First let's look at what is the most common occurrence of the risk rating "
   ]
  },
  {
   "cell_type": "code",
   "execution_count": 5,
   "id": "f95a2c37-67f6-4ea0-95c5-a8b917b2c185",
   "metadata": {
    "tags": []
   },
   "outputs": [
    {
     "data": {
      "text/plain": [
       "risk_rating\n",
       "high_risk    13589\n",
       "low_risk      9853\n",
       "at_risk       7190\n",
       "Name: count, dtype: int64"
      ]
     },
     "execution_count": 5,
     "metadata": {},
     "output_type": "execute_result"
    }
   ],
   "source": [
    "df.risk_rating.value_counts()"
   ]
  },
  {
   "cell_type": "markdown",
   "id": "b7206dd9-302f-49a3-90ea-82d35e6e7d10",
   "metadata": {},
   "source": [
    "    We will set our baseline accordingly to the value counts above"
   ]
  },
  {
   "cell_type": "code",
   "execution_count": null,
   "id": "f7ebe52b-a9d8-42a2-b7cb-daf9be102518",
   "metadata": {},
   "outputs": [],
   "source": []
  },
  {
   "cell_type": "code",
   "execution_count": 6,
   "id": "591959a8-056f-4194-80b6-783a73a31ad6",
   "metadata": {
    "tags": []
   },
   "outputs": [],
   "source": [
    "df['baseline_risk_rating'] = 'low_risk'"
   ]
  },
  {
   "cell_type": "markdown",
   "id": "4fc8d1a9-444e-40e6-bc49-4fa9c352c562",
   "metadata": {},
   "source": [
    "# Random Forest Classifer"
   ]
  },
  {
   "cell_type": "code",
   "execution_count": 23,
   "id": "b7b999a0-6e60-4b44-b7f6-bd4237a46e70",
   "metadata": {},
   "outputs": [
    {
     "name": "stdout",
     "output_type": "stream",
     "text": [
      "              precision    recall  f1-score   support\n",
      "\n",
      "     at_risk       0.54      0.20      0.30      3978\n",
      "   high_risk       0.48      0.71      0.57      7645\n",
      "    low_risk       0.54      0.43      0.47      5530\n",
      "\n",
      "    accuracy                           0.50     17153\n",
      "   macro avg       0.52      0.45      0.45     17153\n",
      "weighted avg       0.51      0.50      0.48     17153\n",
      "\n"
     ]
    }
   ],
   "source": [
    "# make the model \n",
    "rf = RandomForestClassifier(bootstrap=True, \n",
    "                            class_weight=None, \n",
    "                            criterion='gini',\n",
    "                            min_samples_leaf=8,\n",
    "                            n_estimators=100,\n",
    "                            max_depth=10, \n",
    "                            random_state=123)\n",
    "\n",
    "rf.fit(X_train, y_train)\n",
    "y_pred = rf.predict(X_train)\n",
    "y_pred_proba = rf.predict_proba(X_train)\n",
    "train_models = pd.DataFrame()\n",
    "train_models['actual'] = y_train\n",
    "train_models['baseline'] = 'low_risk'\n",
    "train_models['random_forest'] = y_pred\n",
    "print(classification_report(y_train, y_pred))"
   ]
  },
  {
   "cell_type": "code",
   "execution_count": 27,
   "id": "988b576f-978a-4b07-a0e9-7e26b06ea0c4",
   "metadata": {},
   "outputs": [],
   "source": [
    "y_validate.drop(columns='final_score',inplace=True)"
   ]
  },
  {
   "cell_type": "code",
   "execution_count": 28,
   "id": "2efb83c4-24a7-4a4d-b649-c564cc721a32",
   "metadata": {},
   "outputs": [
    {
     "name": "stdout",
     "output_type": "stream",
     "text": [
      "              precision    recall  f1-score   support\n",
      "\n",
      "     at_risk       0.53      0.19      0.28      1775\n",
      "   high_risk       0.47      0.70      0.56      3246\n",
      "    low_risk       0.53      0.42      0.47      2331\n",
      "\n",
      "    accuracy                           0.49      7352\n",
      "   macro avg       0.51      0.44      0.44      7352\n",
      "weighted avg       0.50      0.49      0.46      7352\n",
      "\n"
     ]
    }
   ],
   "source": [
    "# Make the model\n",
    "rf = RandomForestClassifier(bootstrap=True, \n",
    "                            class_weight=None, \n",
    "                            criterion='gini',\n",
    "                            min_samples_leaf=8,\n",
    "                            n_estimators=100,\n",
    "                            max_depth=10, \n",
    "                            random_state=123)\n",
    "\n",
    "rf.fit(X_train, y_train)\n",
    "\n",
    "# Use the model to predict the validation group\n",
    "y_pred = rf.predict(X_validate)\n",
    "y_pred_proba = rf.predict_proba(X_validate)\n",
    "\n",
    "# Create a DataFrame to store the results\n",
    "validate_models = pd.DataFrame()\n",
    "validate_models['actual'] = y_validate\n",
    "validate_models['baseline'] = 'low_risk'\n",
    "validate_models['random_forest'] = y_pred\n",
    "\n",
    "# Print the classification report for the validation group\n",
    "print(classification_report(y_validate, y_pred))\n"
   ]
  },
  {
   "cell_type": "markdown",
   "id": "77c33f5c-17ad-4caf-81cc-006ac4e87b43",
   "metadata": {},
   "source": [
    "# Descion Tree"
   ]
  },
  {
   "cell_type": "code",
   "execution_count": 8,
   "id": "b29e48af-6cc3-46cd-b15e-49e17b6ef7ec",
   "metadata": {},
   "outputs": [],
   "source": [
    "clf = DecisionTreeClassifier(max_depth=3, random_state=123)"
   ]
  },
  {
   "cell_type": "code",
   "execution_count": 9,
   "id": "e2d2ddd9-4752-42dc-8d50-9c995c58d0b4",
   "metadata": {},
   "outputs": [],
   "source": [
    "clf = clf.fit(X_train, y_train)"
   ]
  },
  {
   "cell_type": "code",
   "execution_count": 31,
   "id": "71496c43-654e-4cc5-b5d0-1e3a5e1cb957",
   "metadata": {},
   "outputs": [
    {
     "data": {
      "image/png": "[encoded data removed]",
      "text/plain": [
       "<Figure size 1300x700 with 1 Axes>"
      ]
     },
     "metadata": {},
     "output_type": "display_data"
    }
   ],
   "source": [
    "plt.figure(figsize=(13, 7))\n",
    "plot_tree(clf, feature_names=X_train.columns, class_names=clf.classes_, rounded=True)\n",
    "plt.show()"
   ]
  },
  {
   "cell_type": "code",
   "execution_count": 30,
   "id": "7927f2cf-a128-4fa4-8bb3-86ef04995bd3",
   "metadata": {},
   "outputs": [
    {
     "name": "stdout",
     "output_type": "stream",
     "text": [
      "              precision    recall  f1-score   support\n",
      "\n",
      "     at_risk       0.59      0.11      0.19      3978\n",
      "   high_risk       0.47      0.80      0.59      7645\n",
      "    low_risk       0.56      0.35      0.43      5530\n",
      "\n",
      "    accuracy                           0.49     17153\n",
      "   macro avg       0.54      0.42      0.40     17153\n",
      "weighted avg       0.53      0.49      0.45     17153\n",
      "\n"
     ]
    }
   ],
   "source": [
    "print(classification_report(y_train, y_pred_clf))"
   ]
  },
  {
   "cell_type": "code",
   "execution_count": 33,
   "id": "08eae65f-d17b-4bab-a980-4693ec7934e5",
   "metadata": {},
   "outputs": [
    {
     "name": "stdout",
     "output_type": "stream",
     "text": [
      "              precision    recall  f1-score   support\n",
      "\n",
      "     at_risk       0.57      0.10      0.17      1775\n",
      "   high_risk       0.46      0.80      0.59      3246\n",
      "    low_risk       0.55      0.35      0.43      2331\n",
      "\n",
      "    accuracy                           0.49      7352\n",
      "   macro avg       0.53      0.41      0.39      7352\n",
      "weighted avg       0.52      0.49      0.43      7352\n",
      "\n"
     ]
    }
   ],
   "source": [
    "y_pred_clf = clf.predict(X_validate)\n",
    "\n",
    "# Compare actual y values (from validate) to predicted y_values from the model run on X_validate\n",
    "print(classification_report(y_validate, y_pred_clf))"
   ]
  },
  {
   "cell_type": "code",
   "execution_count": 36,
   "id": "1a38e7e6-69ff-4f73-9b3d-7fa726ee0be3",
   "metadata": {},
   "outputs": [],
   "source": [
    "y_test.drop(columns='final_score', inplace=True)"
   ]
  },
  {
   "cell_type": "code",
   "execution_count": 37,
   "id": "c1fc61b5-93fe-426d-994a-fdf159dfa4a6",
   "metadata": {},
   "outputs": [
    {
     "name": "stdout",
     "output_type": "stream",
     "text": [
      "              precision    recall  f1-score   support\n",
      "\n",
      "     at_risk       0.58      0.11      0.18      1437\n",
      "   high_risk       0.46      0.80      0.58      2698\n",
      "    low_risk       0.55      0.33      0.42      1992\n",
      "\n",
      "    accuracy                           0.48      6127\n",
      "   macro avg       0.53      0.41      0.39      6127\n",
      "weighted avg       0.52      0.48      0.43      6127\n",
      "\n"
     ]
    }
   ],
   "source": [
    "y_pred_clf = clf.predict(X_test)\n",
    "\n",
    "# Compare actual y values (from validate) to predicted y_values from the model run on X_validate\n",
    "print(classification_report(y_test, y_pred_clf))"
   ]
  },
  {
   "cell_type": "markdown",
   "id": "83d537d7-c589-49e2-87a2-7be3bf992ed1",
   "metadata": {
    "tags": []
   },
   "source": [
    "## KNN "
   ]
  },
  {
   "cell_type": "code",
   "execution_count": 14,
   "id": "de26611d-0f19-4979-8863-7ddeaeb0640c",
   "metadata": {},
   "outputs": [],
   "source": [
    "knn = KNeighborsClassifier(n_neighbors=10, weights='distance', algorithm='auto')"
   ]
  },
  {
   "cell_type": "code",
   "execution_count": 15,
   "id": "0edd2954-e33a-4aee-8a63-a8545646215d",
   "metadata": {},
   "outputs": [
    {
     "data": {
      "text/html": [
       "<style>#sk-container-id-1 {color: black;background-color: white;}#sk-container-id-1 pre{padding: 0;}#sk-container-id-1 div.sk-toggleable {background-color: white;}#sk-container-id-1 label.sk-toggleable__label {cursor: pointer;display: block;width: 100%;margin-bottom: 0;padding: 0.3em;box-sizing: border-box;text-align: center;}#sk-container-id-1 label.sk-toggleable__label-arrow:before {content: \"▸\";float: left;margin-right: 0.25em;color: #696969;}#sk-container-id-1 label.sk-toggleable__label-arrow:hover:before {color: black;}#sk-container-id-1 div.sk-estimator:hover label.sk-toggleable__label-arrow:before {color: black;}#sk-container-id-1 div.sk-toggleable__content {max-height: 0;max-width: 0;overflow: hidden;text-align: left;background-color: #f0f8ff;}#sk-container-id-1 div.sk-toggleable__content pre {margin: 0.2em;color: black;border-radius: 0.25em;background-color: #f0f8ff;}#sk-container-id-1 input.sk-toggleable__control:checked~div.sk-toggleable__content {max-height: 200px;max-width: 100%;overflow: auto;}#sk-container-id-1 input.sk-toggleable__control:checked~label.sk-toggleable__label-arrow:before {content: \"▾\";}#sk-container-id-1 div.sk-estimator input.sk-toggleable__control:checked~label.sk-toggleable__label {background-color: #d4ebff;}#sk-container-id-1 div.sk-label input.sk-toggleable__control:checked~label.sk-toggleable__label {background-color: #d4ebff;}#sk-container-id-1 input.sk-hidden--visually {border: 0;clip: rect(1px 1px 1px 1px);clip: rect(1px, 1px, 1px, 1px);height: 1px;margin: -1px;overflow: hidden;padding: 0;position: absolute;width: 1px;}#sk-container-id-1 div.sk-estimator {font-family: monospace;background-color: #f0f8ff;border: 1px dotted black;border-radius: 0.25em;box-sizing: border-box;margin-bottom: 0.5em;}#sk-container-id-1 div.sk-estimator:hover {background-color: #d4ebff;}#sk-container-id-1 div.sk-parallel-item::after {content: \"\";width: 100%;border-bottom: 1px solid gray;flex-grow: 1;}#sk-container-id-1 div.sk-label:hover label.sk-toggleable__label {background-color: #d4ebff;}#sk-container-id-1 div.sk-serial::before {content: \"\";position: absolute;border-left: 1px solid gray;box-sizing: border-box;top: 0;bottom: 0;left: 50%;z-index: 0;}#sk-container-id-1 div.sk-serial {display: flex;flex-direction: column;align-items: center;background-color: white;padding-right: 0.2em;padding-left: 0.2em;position: relative;}#sk-container-id-1 div.sk-item {position: relative;z-index: 1;}#sk-container-id-1 div.sk-parallel {display: flex;align-items: stretch;justify-content: center;background-color: white;position: relative;}#sk-container-id-1 div.sk-item::before, #sk-container-id-1 div.sk-parallel-item::before {content: \"\";position: absolute;border-left: 1px solid gray;box-sizing: border-box;top: 0;bottom: 0;left: 50%;z-index: -1;}#sk-container-id-1 div.sk-parallel-item {display: flex;flex-direction: column;z-index: 1;position: relative;background-color: white;}#sk-container-id-1 div.sk-parallel-item:first-child::after {align-self: flex-end;width: 50%;}#sk-container-id-1 div.sk-parallel-item:last-child::after {align-self: flex-start;width: 50%;}#sk-container-id-1 div.sk-parallel-item:only-child::after {width: 0;}#sk-container-id-1 div.sk-dashed-wrapped {border: 1px dashed gray;margin: 0 0.4em 0.5em 0.4em;box-sizing: border-box;padding-bottom: 0.4em;background-color: white;}#sk-container-id-1 div.sk-label label {font-family: monospace;font-weight: bold;display: inline-block;line-height: 1.2em;}#sk-container-id-1 div.sk-label-container {text-align: center;}#sk-container-id-1 div.sk-container {/* jupyter's `normalize.less` sets `[hidden] { display: none; }` but bootstrap.min.css set `[hidden] { display: none !important; }` so we also need the `!important` here to be able to override the default hidden behavior on the sphinx rendered scikit-learn.org. See: https://github.com/scikit-learn/scikit-learn/issues/21755 */display: inline-block !important;position: relative;}#sk-container-id-1 div.sk-text-repr-fallback {display: none;}</style><div id=\"sk-container-id-1\" class=\"sk-top-container\"><div class=\"sk-text-repr-fallback\"><pre>KNeighborsClassifier(n_neighbors=10, weights=&#x27;distance&#x27;)</pre><b>In a Jupyter environment, please rerun this cell to show the HTML representation or trust the notebook. <br />On GitHub, the HTML representation is unable to render, please try loading this page with nbviewer.org.</b></div><div class=\"sk-container\" hidden><div class=\"sk-item\"><div class=\"sk-estimator sk-toggleable\"><input class=\"sk-toggleable__control sk-hidden--visually\" id=\"sk-estimator-id-1\" type=\"checkbox\" checked><label for=\"sk-estimator-id-1\" class=\"sk-toggleable__label sk-toggleable__label-arrow\">KNeighborsClassifier</label><div class=\"sk-toggleable__content\"><pre>KNeighborsClassifier(n_neighbors=10, weights=&#x27;distance&#x27;)</pre></div></div></div></div></div>"
      ],
      "text/plain": [
       "KNeighborsClassifier(n_neighbors=10, weights='distance')"
      ]
     },
     "execution_count": 15,
     "metadata": {},
     "output_type": "execute_result"
    }
   ],
   "source": [
    "knn.fit(X_train, y_train)"
   ]
  },
  {
   "cell_type": "code",
   "execution_count": 16,
   "id": "5d07c135-bbe3-4a0d-bcb7-55fb2ea1055e",
   "metadata": {},
   "outputs": [],
   "source": [
    "y_pred = knn.predict(X_train)\n",
    "y_pred_proba = knn.predict_proba(X_train)"
   ]
  },
  {
   "cell_type": "code",
   "execution_count": 17,
   "id": "a3b69dfa-8b6a-4e1d-857f-6ab3fbc27679",
   "metadata": {},
   "outputs": [
    {
     "name": "stdout",
     "output_type": "stream",
     "text": [
      "              precision    recall  f1-score   support\n",
      "\n",
      "     at_risk       0.48      0.26      0.33      3978\n",
      "   high_risk       0.47      0.70      0.56      7645\n",
      "    low_risk       0.49      0.32      0.39      5530\n",
      "\n",
      "    accuracy                           0.48     17153\n",
      "   macro avg       0.48      0.43      0.43     17153\n",
      "weighted avg       0.48      0.48      0.45     17153\n",
      "\n"
     ]
    }
   ],
   "source": [
    "print(classification_report(y_train, y_pred))\n"
   ]
  },
  {
   "cell_type": "markdown",
   "id": "9c17a28b-e19b-46b0-87d7-b448999ad8d7",
   "metadata": {},
   "source": [
    "# Logistic Regression"
   ]
  },
  {
   "cell_type": "code",
   "execution_count": 18,
   "id": "acef337d-7c31-4ded-9a01-5920f15a09ac",
   "metadata": {},
   "outputs": [],
   "source": [
    "logit = LogisticRegression(C=1, random_state=123, intercept_scaling=1, solver='lbfgs')"
   ]
  },
  {
   "cell_type": "code",
   "execution_count": 19,
   "id": "d3f052ae-d042-421c-a123-f4f0b1bc6e54",
   "metadata": {},
   "outputs": [
    {
     "data": {
      "text/html": [
       "<style>#sk-container-id-2 {color: black;background-color: white;}#sk-container-id-2 pre{padding: 0;}#sk-container-id-2 div.sk-toggleable {background-color: white;}#sk-container-id-2 label.sk-toggleable__label {cursor: pointer;display: block;width: 100%;margin-bottom: 0;padding: 0.3em;box-sizing: border-box;text-align: center;}#sk-container-id-2 label.sk-toggleable__label-arrow:before {content: \"▸\";float: left;margin-right: 0.25em;color: #696969;}#sk-container-id-2 label.sk-toggleable__label-arrow:hover:before {color: black;}#sk-container-id-2 div.sk-estimator:hover label.sk-toggleable__label-arrow:before {color: black;}#sk-container-id-2 div.sk-toggleable__content {max-height: 0;max-width: 0;overflow: hidden;text-align: left;background-color: #f0f8ff;}#sk-container-id-2 div.sk-toggleable__content pre {margin: 0.2em;color: black;border-radius: 0.25em;background-color: #f0f8ff;}#sk-container-id-2 input.sk-toggleable__control:checked~div.sk-toggleable__content {max-height: 200px;max-width: 100%;overflow: auto;}#sk-container-id-2 input.sk-toggleable__control:checked~label.sk-toggleable__label-arrow:before {content: \"▾\";}#sk-container-id-2 div.sk-estimator input.sk-toggleable__control:checked~label.sk-toggleable__label {background-color: #d4ebff;}#sk-container-id-2 div.sk-label input.sk-toggleable__control:checked~label.sk-toggleable__label {background-color: #d4ebff;}#sk-container-id-2 input.sk-hidden--visually {border: 0;clip: rect(1px 1px 1px 1px);clip: rect(1px, 1px, 1px, 1px);height: 1px;margin: -1px;overflow: hidden;padding: 0;position: absolute;width: 1px;}#sk-container-id-2 div.sk-estimator {font-family: monospace;background-color: #f0f8ff;border: 1px dotted black;border-radius: 0.25em;box-sizing: border-box;margin-bottom: 0.5em;}#sk-container-id-2 div.sk-estimator:hover {background-color: #d4ebff;}#sk-container-id-2 div.sk-parallel-item::after {content: \"\";width: 100%;border-bottom: 1px solid gray;flex-grow: 1;}#sk-container-id-2 div.sk-label:hover label.sk-toggleable__label {background-color: #d4ebff;}#sk-container-id-2 div.sk-serial::before {content: \"\";position: absolute;border-left: 1px solid gray;box-sizing: border-box;top: 0;bottom: 0;left: 50%;z-index: 0;}#sk-container-id-2 div.sk-serial {display: flex;flex-direction: column;align-items: center;background-color: white;padding-right: 0.2em;padding-left: 0.2em;position: relative;}#sk-container-id-2 div.sk-item {position: relative;z-index: 1;}#sk-container-id-2 div.sk-parallel {display: flex;align-items: stretch;justify-content: center;background-color: white;position: relative;}#sk-container-id-2 div.sk-item::before, #sk-container-id-2 div.sk-parallel-item::before {content: \"\";position: absolute;border-left: 1px solid gray;box-sizing: border-box;top: 0;bottom: 0;left: 50%;z-index: -1;}#sk-container-id-2 div.sk-parallel-item {display: flex;flex-direction: column;z-index: 1;position: relative;background-color: white;}#sk-container-id-2 div.sk-parallel-item:first-child::after {align-self: flex-end;width: 50%;}#sk-container-id-2 div.sk-parallel-item:last-child::after {align-self: flex-start;width: 50%;}#sk-container-id-2 div.sk-parallel-item:only-child::after {width: 0;}#sk-container-id-2 div.sk-dashed-wrapped {border: 1px dashed gray;margin: 0 0.4em 0.5em 0.4em;box-sizing: border-box;padding-bottom: 0.4em;background-color: white;}#sk-container-id-2 div.sk-label label {font-family: monospace;font-weight: bold;display: inline-block;line-height: 1.2em;}#sk-container-id-2 div.sk-label-container {text-align: center;}#sk-container-id-2 div.sk-container {/* jupyter's `normalize.less` sets `[hidden] { display: none; }` but bootstrap.min.css set `[hidden] { display: none !important; }` so we also need the `!important` here to be able to override the default hidden behavior on the sphinx rendered scikit-learn.org. See: https://github.com/scikit-learn/scikit-learn/issues/21755 */display: inline-block !important;position: relative;}#sk-container-id-2 div.sk-text-repr-fallback {display: none;}</style><div id=\"sk-container-id-2\" class=\"sk-top-container\"><div class=\"sk-text-repr-fallback\"><pre>LogisticRegression(C=1, random_state=123)</pre><b>In a Jupyter environment, please rerun this cell to show the HTML representation or trust the notebook. <br />On GitHub, the HTML representation is unable to render, please try loading this page with nbviewer.org.</b></div><div class=\"sk-container\" hidden><div class=\"sk-item\"><div class=\"sk-estimator sk-toggleable\"><input class=\"sk-toggleable__control sk-hidden--visually\" id=\"sk-estimator-id-2\" type=\"checkbox\" checked><label for=\"sk-estimator-id-2\" class=\"sk-toggleable__label sk-toggleable__label-arrow\">LogisticRegression</label><div class=\"sk-toggleable__content\"><pre>LogisticRegression(C=1, random_state=123)</pre></div></div></div></div></div>"
      ],
      "text/plain": [
       "LogisticRegression(C=1, random_state=123)"
      ]
     },
     "execution_count": 19,
     "metadata": {},
     "output_type": "execute_result"
    }
   ],
   "source": [
    "logit.fit(X_train, y_train)"
   ]
  },
  {
   "cell_type": "code",
   "execution_count": 20,
   "id": "5c2bb9f1-749c-4d8e-b856-83b7787159f1",
   "metadata": {},
   "outputs": [],
   "source": [
    "y_pred = logit.predict(X_train)"
   ]
  },
  {
   "cell_type": "code",
   "execution_count": 21,
   "id": "38f6c481-2480-45e4-94db-9f0da0807f45",
   "metadata": {},
   "outputs": [
    {
     "name": "stdout",
     "output_type": "stream",
     "text": [
      "              precision    recall  f1-score   support\n",
      "\n",
      "     at_risk       0.50      0.32      0.39      3978\n",
      "   high_risk       0.48      0.65      0.55      7645\n",
      "    low_risk       0.54      0.43      0.47      5530\n",
      "\n",
      "    accuracy                           0.50     17153\n",
      "   macro avg       0.51      0.46      0.47     17153\n",
      "weighted avg       0.50      0.50      0.49     17153\n",
      "\n"
     ]
    }
   ],
   "source": [
    "print(classification_report(y_train, y_pred))\n"
   ]
  },
  {
   "cell_type": "markdown",
   "id": "cb0496cd-15be-4694-966e-19a5a8c01fe3",
   "metadata": {
    "tags": []
   },
   "source": [
    "# Baseline model classification report"
   ]
  },
  {
   "cell_type": "code",
   "execution_count": 22,
   "id": "1af1f242-c373-41b3-8dad-81e47b87fbb4",
   "metadata": {},
   "outputs": [
    {
     "name": "stdout",
     "output_type": "stream",
     "text": [
      "              precision    recall  f1-score   support\n",
      "\n",
      "     at_risk       0.00      0.00      0.00      3978\n",
      "   high_risk       0.00      0.00      0.00      7645\n",
      "    low_risk       0.32      1.00      0.49      5530\n",
      "\n",
      "    accuracy                           0.32     17153\n",
      "   macro avg       0.11      0.33      0.16     17153\n",
      "weighted avg       0.10      0.32      0.16     17153\n",
      "\n"
     ]
    }
   ],
   "source": [
    "print(classification_report(y_train,train_models.baseline))"
   ]
  }
 ],
 "metadata": {
  "kernelspec": {
   "display_name": "Python 3 (ipykernel)",
   "language": "python",
   "name": "python3"
  },
  "language_info": {
   "codemirror_mode": {
    "name": "ipython",
    "version": 3
   },
   "file_extension": ".py",
   "mimetype": "text/x-python",
   "name": "python",
   "nbconvert_exporter": "python",
   "pygments_lexer": "ipython3",
   "version": "3.10.9"
  }
 },
 "nbformat": 4,
 "nbformat_minor": 5
}
