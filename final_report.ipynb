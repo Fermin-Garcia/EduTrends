{
 "cells": [
  {
   "cell_type": "markdown",
   "id": "7ab0079c-b6a7-4f35-a33b-068aa44cffde",
   "metadata": {},
   "source": [
    "# Acquiring our data! "
   ]
  },
  {
   "cell_type": "markdown",
   "id": "c8ece3bd-5b29-445d-8cdb-b51ee354f3de",
   "metadata": {},
   "source": [
    "First we acquired our data from"
   ]
  },
  {
   "cell_type": "markdown",
   "id": "01cf2770-8290-4a99-ba61-34d023c4cb20",
   "metadata": {},
   "source": [
    "## Our imports! "
   ]
  },
  {
   "cell_type": "markdown",
   "id": "17b41e72-caf9-49ab-90aa-60c22ee7d0ea",
   "metadata": {},
   "source": [
    "    For our imports we should be limited on what libraries we use. At minimum we are using import env to acquire our credientals and allow us to access the database we are quering, however this is not the case in all situations. We can be importing from an online database or "
   ]
  },
  {
   "cell_type": "code",
   "execution_count": null,
   "id": "48a4c81e-0d2a-4bf1-9548-c22b2a16b78b",
   "metadata": {},
   "outputs": [],
   "source": []
  }
 ],
 "metadata": {
  "kernelspec": {
   "display_name": "Python 3 (ipykernel)",
   "language": "python",
   "name": "python3"
  },
  "language_info": {
   "codemirror_mode": {
    "name": "ipython",
    "version": 3
   },
   "file_extension": ".py",
   "mimetype": "text/x-python",
   "name": "python",
   "nbconvert_exporter": "python",
   "pygments_lexer": "ipython3",
   "version": "3.10.9"
  }
 },
 "nbformat": 4,
 "nbformat_minor": 5
}
