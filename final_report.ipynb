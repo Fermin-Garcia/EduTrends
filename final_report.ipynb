{
 "cells": [
  {
   "cell_type": "markdown",
   "id": "ca2d61ff-42a7-43f1-97e2-ff5b472fd8c6",
   "metadata": {},
   "source": [
    "# **EduTrends:**\n",
    "    Overview: With open source data from kaggle.com, we perform a detailed data analysis to identify what the social status of a studuent and how that affects their final grades. Using this we can Identify students who are more likley to struggle acedemically before the students even start class. We did this by using a classification model. From this we can identify students who are more likley to struggle acedemically before the acedemic school year begins."
   ]
  },
  {
   "cell_type": "markdown",
   "id": "a5d2e9d2-2947-4dc8-9e9f-8884a353c7e4",
   "metadata": {},
   "source": [
    "## Acquiring our data. \n",
    "    we acquired our data from Kaggle.com "
   ]
  },
  {
   "cell_type": "markdown",
   "id": "46842f6a-613e-434e-aa4d-b5cb29002746",
   "metadata": {},
   "source": [
    "## Preparing our data:\n",
    "    In prepare..."
   ]
  },
  {
   "cell_type": "markdown",
   "id": "5965163c-751b-44e9-b8a3-faa7e242fd39",
   "metadata": {},
   "source": [
    "## Preprocessing our data:\n",
    "    In preprocessing ... "
   ]
  },
  {
   "cell_type": "markdown",
   "id": "57a4a911-767d-4c2b-a772-2934f445386d",
   "metadata": {},
   "source": [
    "## Exploring our data:\n",
    "     In our exploritory analysis ...\n",
    "     "
   ]
  },
  {
   "cell_type": "markdown",
   "id": "e55a3c20-1a12-4767-90f2-8950247fb37b",
   "metadata": {},
   "source": [
    "## Modeling:\n",
    "     In modeling ... "
   ]
  },
  {
   "cell_type": "markdown",
   "id": "2a0457a6-cb35-457a-b956-e0fd0f3cd23f",
   "metadata": {},
   "source": [
    "## Summary: "
   ]
  },
  {
   "cell_type": "markdown",
   "id": "10fcf939-a6d1-4f31-b96b-11c68207698e",
   "metadata": {},
   "source": [
    "## Recomendations :\n",
    "     based off our exploratroy analysis and our current working model we recomend... "
   ]
  }
 ],
 "metadata": {
  "kernelspec": {
   "display_name": "Python 3 (ipykernel)",
   "language": "python",
   "name": "python3"
  },
  "language_info": {
   "codemirror_mode": {
    "name": "ipython",
    "version": 3
   },
   "file_extension": ".py",
   "mimetype": "text/x-python",
   "name": "python",
   "nbconvert_exporter": "python",
   "pygments_lexer": "ipython3",
   "version": "3.10.9"
  }
 },
 "nbformat": 4,
 "nbformat_minor": 5
}
