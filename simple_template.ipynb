{
 "cells": [
  {
   "cell_type": "markdown",
   "id": "d1323f5c-6703-431d-b6db-89c700fd88f8",
   "metadata": {},
   "source": [
    "# Imports:\n",
    "    Here are the libraries I am working with. Here are the basics:"
   ]
  },
  {
   "cell_type": "code",
   "execution_count": null,
   "id": "4e5099c8-1cce-41bc-8a73-daf55bd9c9a0",
   "metadata": {},
   "outputs": [],
   "source": [
    "import numpy as np\n",
    "import matplotlib.pyplot as plt\n",
    "import seaborn as sns\n",
    "import os"
   ]
  },
  {
   "cell_type": "markdown",
   "id": "996628bc-e2c2-4755-a473-cb75eb600814",
   "metadata": {},
   "source": [
    "## Goals: \n",
    "    - What are you looking to acheive?\n",
    "    - what is your end product\n",
    "    - enter them here "
   ]
  },
  {
   "cell_type": "code",
   "execution_count": null,
   "id": "733be544-0c20-4865-b9c3-b26cdc61a2f8",
   "metadata": {},
   "outputs": [],
   "source": []
  }
 ],
 "metadata": {
  "kernelspec": {
   "display_name": "Python 3 (ipykernel)",
   "language": "python",
   "name": "python3"
  },
  "language_info": {
   "codemirror_mode": {
    "name": "ipython",
    "version": 3
   },
   "file_extension": ".py",
   "mimetype": "text/x-python",
   "name": "python",
   "nbconvert_exporter": "python",
   "pygments_lexer": "ipython3",
   "version": "3.9.13"
  }
 },
 "nbformat": 4,
 "nbformat_minor": 5
}
